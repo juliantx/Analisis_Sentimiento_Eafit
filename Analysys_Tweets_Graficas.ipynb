{
 "cells": [
  {
   "cell_type": "code",
   "execution_count": 141,
   "metadata": {
    "scrolled": true
   },
   "outputs": [],
   "source": [
    "import pandas as pd\n",
    "pd.set_option('max_colwidth',1000)"
   ]
  },
  {
   "cell_type": "markdown",
   "metadata": {},
   "source": [
    "Cargamos la base de datos de TASS, con tweets catálogados que nos permitirá hacer el entrenamiento de algoritmos de machine learning, estos tienen una polaridad asignada para cada tweet."
   ]
  },
  {
   "cell_type": "code",
   "execution_count": 142,
   "metadata": {},
   "outputs": [],
   "source": [
    "general_tweets_corpus_train = pd.read_csv('general-tweets-train-tagged.csv', encoding='utf-8')\n",
    "social_tweets_corpus_train = pd.read_csv('socialtv-tweets-train-tagged.csv', encoding='utf-8')\n",
    "stompol_tweets_train_tagged = pd.read_csv('stompol-tweets-train-tagged.csv', encoding='utf-8')\n",
    "#tweet_testeo = pd.read_csv('tweet_test.csv', encoding='utf-8')"
   ]
  },
  {
   "cell_type": "code",
   "execution_count": 143,
   "metadata": {},
   "outputs": [
    {
     "data": {
      "text/html": [
       "<div>\n",
       "<style scoped>\n",
       "    .dataframe tbody tr th:only-of-type {\n",
       "        vertical-align: middle;\n",
       "    }\n",
       "\n",
       "    .dataframe tbody tr th {\n",
       "        vertical-align: top;\n",
       "    }\n",
       "\n",
       "    .dataframe thead th {\n",
       "        text-align: right;\n",
       "    }\n",
       "</style>\n",
       "<table border=\"1\" class=\"dataframe\">\n",
       "  <thead>\n",
       "    <tr style=\"text-align: right;\">\n",
       "      <th></th>\n",
       "      <th>content</th>\n",
       "      <th>polarity</th>\n",
       "      <th>agreement</th>\n",
       "    </tr>\n",
       "  </thead>\n",
       "  <tbody>\n",
       "    <tr>\n",
       "      <th>0</th>\n",
       "      <td>Salgo de #VeoTV , que día más largoooooo...</td>\n",
       "      <td>NONE</td>\n",
       "      <td>AGREEMENT</td>\n",
       "    </tr>\n",
       "    <tr>\n",
       "      <th>1</th>\n",
       "      <td>@PauladeLasHeras No te libraras de ayudar me/nos. Besos y gracias</td>\n",
       "      <td>NEU</td>\n",
       "      <td>DISAGREEMENT</td>\n",
       "    </tr>\n",
       "    <tr>\n",
       "      <th>2</th>\n",
       "      <td>@marodriguezb Gracias MAR</td>\n",
       "      <td>P</td>\n",
       "      <td>AGREEMENT</td>\n",
       "    </tr>\n",
       "    <tr>\n",
       "      <th>3</th>\n",
       "      <td>Off pensando en el regalito Sinde, la que se va de la SGAE cuando se van sus corruptos. Intento no sacar conclusiones (lo intento)</td>\n",
       "      <td>N+</td>\n",
       "      <td>AGREEMENT</td>\n",
       "    </tr>\n",
       "    <tr>\n",
       "      <th>4</th>\n",
       "      <td>Conozco a alguien q es adicto al drama! Ja ja ja te suena d algo!</td>\n",
       "      <td>P+</td>\n",
       "      <td>AGREEMENT</td>\n",
       "    </tr>\n",
       "  </tbody>\n",
       "</table>\n",
       "</div>"
      ],
      "text/plain": [
       "                                                                                                                              content  \\\n",
       "0                                                                                         Salgo de #VeoTV , que día más largoooooo...   \n",
       "1                                                                   @PauladeLasHeras No te libraras de ayudar me/nos. Besos y gracias   \n",
       "2                                                                                                           @marodriguezb Gracias MAR   \n",
       "3  Off pensando en el regalito Sinde, la que se va de la SGAE cuando se van sus corruptos. Intento no sacar conclusiones (lo intento)   \n",
       "4                                                                   Conozco a alguien q es adicto al drama! Ja ja ja te suena d algo!   \n",
       "\n",
       "  polarity     agreement  \n",
       "0     NONE     AGREEMENT  \n",
       "1      NEU  DISAGREEMENT  \n",
       "2        P     AGREEMENT  \n",
       "3       N+     AGREEMENT  \n",
       "4       P+     AGREEMENT  "
      ]
     },
     "execution_count": 143,
     "metadata": {},
     "output_type": "execute_result"
    }
   ],
   "source": [
    "general_tweets_corpus_train.head()"
   ]
  },
  {
   "cell_type": "code",
   "execution_count": 144,
   "metadata": {},
   "outputs": [
    {
     "data": {
      "text/html": [
       "<div>\n",
       "<style scoped>\n",
       "    .dataframe tbody tr th:only-of-type {\n",
       "        vertical-align: middle;\n",
       "    }\n",
       "\n",
       "    .dataframe tbody tr th {\n",
       "        vertical-align: top;\n",
       "    }\n",
       "\n",
       "    .dataframe thead th {\n",
       "        text-align: right;\n",
       "    }\n",
       "</style>\n",
       "<table border=\"1\" class=\"dataframe\">\n",
       "  <thead>\n",
       "    <tr style=\"text-align: right;\">\n",
       "      <th></th>\n",
       "      <th>content</th>\n",
       "      <th>polarity</th>\n",
       "      <th>agreement</th>\n",
       "    </tr>\n",
       "  </thead>\n",
       "  <tbody>\n",
       "    <tr>\n",
       "      <th>0</th>\n",
       "      <td>Los que esta noche van a la redonda a celebrar la victoria  del  Real Madrid  les espero para cuando suba el  @realmurciacfsad  a primera.</td>\n",
       "      <td>P</td>\n",
       "      <td></td>\n",
       "    </tr>\n",
       "    <tr>\n",
       "      <th>1</th>\n",
       "      <td>Diooooos que careron de  gareth  madreeeeee ahí están los jugadores importantes decidiendo  partidos  vamos coñoooooooo jajaja hala  madrid</td>\n",
       "      <td>P</td>\n",
       "      <td></td>\n",
       "    </tr>\n",
       "    <tr>\n",
       "      <th>2</th>\n",
       "      <td>Ganó el mejor.  @realmadrid    #CopaRelRey    #FinalCopaRelRey</td>\n",
       "      <td>P</td>\n",
       "      <td></td>\n",
       "    </tr>\n",
       "    <tr>\n",
       "      <th>3</th>\n",
       "      <td>@realmadrid  Felicidades!!! ? Gracias por alegrarme la tarde!!! ??? *Aplausos* #Feliz</td>\n",
       "      <td>P</td>\n",
       "      <td></td>\n",
       "    </tr>\n",
       "    <tr>\n",
       "      <th>4</th>\n",
       "      <td>@titelas Mañana  Bale  en naranja</td>\n",
       "      <td>NEU</td>\n",
       "      <td></td>\n",
       "    </tr>\n",
       "  </tbody>\n",
       "</table>\n",
       "</div>"
      ],
      "text/plain": [
       "                                                                                                                                       content  \\\n",
       "0   Los que esta noche van a la redonda a celebrar la victoria  del  Real Madrid  les espero para cuando suba el  @realmurciacfsad  a primera.   \n",
       "1  Diooooos que careron de  gareth  madreeeeee ahí están los jugadores importantes decidiendo  partidos  vamos coñoooooooo jajaja hala  madrid   \n",
       "2                                                                               Ganó el mejor.  @realmadrid    #CopaRelRey    #FinalCopaRelRey   \n",
       "3                                                        @realmadrid  Felicidades!!! ? Gracias por alegrarme la tarde!!! ??? *Aplausos* #Feliz   \n",
       "4                                                                                                            @titelas Mañana  Bale  en naranja   \n",
       "\n",
       "  polarity agreement  \n",
       "0        P            \n",
       "1        P            \n",
       "2        P            \n",
       "3        P            \n",
       "4      NEU            "
      ]
     },
     "execution_count": 144,
     "metadata": {},
     "output_type": "execute_result"
    }
   ],
   "source": [
    "social_tweets_corpus_train.head()"
   ]
  },
  {
   "cell_type": "code",
   "execution_count": 145,
   "metadata": {},
   "outputs": [
    {
     "data": {
      "text/html": [
       "<div>\n",
       "<style scoped>\n",
       "    .dataframe tbody tr th:only-of-type {\n",
       "        vertical-align: middle;\n",
       "    }\n",
       "\n",
       "    .dataframe tbody tr th {\n",
       "        vertical-align: top;\n",
       "    }\n",
       "\n",
       "    .dataframe thead th {\n",
       "        text-align: right;\n",
       "    }\n",
       "</style>\n",
       "<table border=\"1\" class=\"dataframe\">\n",
       "  <thead>\n",
       "    <tr style=\"text-align: right;\">\n",
       "      <th></th>\n",
       "      <th>content</th>\n",
       "      <th>polarity</th>\n",
       "      <th>agreement</th>\n",
       "    </tr>\n",
       "  </thead>\n",
       "  <tbody>\n",
       "    <tr>\n",
       "      <th>0</th>\n",
       "      <td>Diga cuanto nos van a costar las  autovías  de sus amiguetes ¿4500 millones o más ?  @EsperanzAguirre @PPopular</td>\n",
       "      <td>N</td>\n",
       "      <td></td>\n",
       "    </tr>\n",
       "    <tr>\n",
       "      <th>1</th>\n",
       "      <td>@lhermoso_ @sanchezcastejon  #DobleMoral  Castilla antes que Aragón...</td>\n",
       "      <td>N</td>\n",
       "      <td></td>\n",
       "    </tr>\n",
       "    <tr>\n",
       "      <th>2</th>\n",
       "      <td>@PSOE  @sanchezcastejon Me hace mucha gracia que esa afirmación la haga el PSOE</td>\n",
       "      <td>N</td>\n",
       "      <td></td>\n",
       "    </tr>\n",
       "    <tr>\n",
       "      <th>3</th>\n",
       "      <td>Para que todo el mundo lo tengo claro ....  @CsAlzira_   https://t.co/kcDxbhu3Ha</td>\n",
       "      <td>NEU</td>\n",
       "      <td></td>\n",
       "    </tr>\n",
       "    <tr>\n",
       "      <th>4</th>\n",
       "      <td>@Albert_Rivera  y  @CiudadanosCs  saben q este país es progresista pero q se arruga y vota centro. Discurso moderado y electoralista.</td>\n",
       "      <td>N</td>\n",
       "      <td></td>\n",
       "    </tr>\n",
       "  </tbody>\n",
       "</table>\n",
       "</div>"
      ],
      "text/plain": [
       "                                                                                                                                 content  \\\n",
       "0                        Diga cuanto nos van a costar las  autovías  de sus amiguetes ¿4500 millones o más ?  @EsperanzAguirre @PPopular   \n",
       "1                                                                 @lhermoso_ @sanchezcastejon  #DobleMoral  Castilla antes que Aragón...   \n",
       "2                                                        @PSOE  @sanchezcastejon Me hace mucha gracia que esa afirmación la haga el PSOE   \n",
       "3                                                       Para que todo el mundo lo tengo claro ....  @CsAlzira_   https://t.co/kcDxbhu3Ha   \n",
       "4  @Albert_Rivera  y  @CiudadanosCs  saben q este país es progresista pero q se arruga y vota centro. Discurso moderado y electoralista.   \n",
       "\n",
       "  polarity agreement  \n",
       "0        N            \n",
       "1        N            \n",
       "2        N            \n",
       "3      NEU            \n",
       "4        N            "
      ]
     },
     "execution_count": 145,
     "metadata": {},
     "output_type": "execute_result"
    }
   ],
   "source": [
    "stompol_tweets_train_tagged.head()"
   ]
  },
  {
   "cell_type": "markdown",
   "metadata": {},
   "source": [
    "Concatenamos los Tweets cargados anteriormente en un solo Corpus"
   ]
  },
  {
   "cell_type": "code",
   "execution_count": 146,
   "metadata": {},
   "outputs": [
    {
     "data": {
      "text/html": [
       "<div>\n",
       "<style scoped>\n",
       "    .dataframe tbody tr th:only-of-type {\n",
       "        vertical-align: middle;\n",
       "    }\n",
       "\n",
       "    .dataframe tbody tr th {\n",
       "        vertical-align: top;\n",
       "    }\n",
       "\n",
       "    .dataframe thead th {\n",
       "        text-align: right;\n",
       "    }\n",
       "</style>\n",
       "<table border=\"1\" class=\"dataframe\">\n",
       "  <thead>\n",
       "    <tr style=\"text-align: right;\">\n",
       "      <th></th>\n",
       "      <th>content</th>\n",
       "      <th>polarity</th>\n",
       "      <th>agreement</th>\n",
       "    </tr>\n",
       "  </thead>\n",
       "  <tbody>\n",
       "    <tr>\n",
       "      <th>300</th>\n",
       "      <td>Ey que los del  Barça  se quedan mirando. Ya tienen algo de que presumir</td>\n",
       "      <td>N</td>\n",
       "      <td></td>\n",
       "    </tr>\n",
       "    <tr>\n",
       "      <th>6989</th>\n",
       "      <td>Consolación y lagrimas. Es preciosa . #malagasanta #cofradiasmlg #malaga  http://t.co/9RLa749u</td>\n",
       "      <td>P+</td>\n",
       "      <td>AGREEMENT</td>\n",
       "    </tr>\n",
       "    <tr>\n",
       "      <th>2213</th>\n",
       "      <td>Estupendo, si estoy hablamos “@JoseNicolas13: Notición! Nos avisa nuestro profesor de que ha concertado una visita a EM el 27 de Enero.</td>\n",
       "      <td>P+</td>\n",
       "      <td>AGREEMENT</td>\n",
       "    </tr>\n",
       "    <tr>\n",
       "      <th>1595</th>\n",
       "      <td>Pues nada, una época dorada llega a su fin!!! Enhorabuena a los  madridistas  que están todo el año, no a los que salen sólo hoy.</td>\n",
       "      <td>P</td>\n",
       "      <td></td>\n",
       "    </tr>\n",
       "    <tr>\n",
       "      <th>6230</th>\n",
       "      <td>La gente está sobrecogidahttp://t.co/cGVyaibU</td>\n",
       "      <td>N</td>\n",
       "      <td>AGREEMENT</td>\n",
       "    </tr>\n",
       "    <tr>\n",
       "      <th>667</th>\n",
       "      <td>@MafeSaavedrap naaaaaa muy de buenas. Como se Salvan al minuto 89 De  Neymar  :D</td>\n",
       "      <td>NEU</td>\n",
       "      <td></td>\n",
       "    </tr>\n",
       "    <tr>\n",
       "      <th>1204</th>\n",
       "      <td>Esta noche, a partir de las doce, nos vemos en @13television @DHAM_13tv con @alfonsomerlos y el análisis del nuevo gobierno d @marianorajoy</td>\n",
       "      <td>NONE</td>\n",
       "      <td>AGREEMENT</td>\n",
       "    </tr>\n",
       "    <tr>\n",
       "      <th>639</th>\n",
       "      <td>RT @delahozm: @sevillajordi @anarcanil @susannagriso Allí estaremos en un par de horas</td>\n",
       "      <td>NONE</td>\n",
       "      <td>AGREEMENT</td>\n",
       "    </tr>\n",
       "    <tr>\n",
       "      <th>642</th>\n",
       "      <td>Explosiona un pequeño artefacto junto al Estadio Olímpico de La Cartuja / Estaba oculto en una jardinera http://t.co/wryiOZO4</td>\n",
       "      <td>N+</td>\n",
       "      <td>AGREEMENT</td>\n",
       "    </tr>\n",
       "    <tr>\n",
       "      <th>5383</th>\n",
       "      <td>Nuestra portada: emprendedores de Youtube “@quediario QUÉ! del jueves 8 de marzo de 2012 http://t.co/LCAjKPor”</td>\n",
       "      <td>NONE</td>\n",
       "      <td>AGREEMENT</td>\n",
       "    </tr>\n",
       "    <tr>\n",
       "      <th>2648</th>\n",
       "      <td>#FF RT @SantyUrbaneja: @MayteOtero @Andreita_ae @virginiacanadas @Milamorr @melina_cm @encarnialvarez @DoriLuque  me sumo #FF para todas!!!</td>\n",
       "      <td>P</td>\n",
       "      <td>AGREEMENT</td>\n",
       "    </tr>\n",
       "    <tr>\n",
       "      <th>1581</th>\n",
       "      <td>Que no se podia ganar sin  Cristiano ? XUPEN???</td>\n",
       "      <td>NEU</td>\n",
       "      <td></td>\n",
       "    </tr>\n",
       "    <tr>\n",
       "      <th>2045</th>\n",
       "      <td>Y aquí el equipo del Telediario matinal haciendo el traspaso de poderes a #losdesayunosdetve http://t.co/163jKTi8</td>\n",
       "      <td>NONE</td>\n",
       "      <td>AGREEMENT</td>\n",
       "    </tr>\n",
       "    <tr>\n",
       "      <th>3524</th>\n",
       "      <td>Ah muy bien. A ver si al proximo festival me invitan ;)  RT @GVM2010: @AlejandroSanz Cantó Alex (cont) http://t.co/c5DHpMJO</td>\n",
       "      <td>P</td>\n",
       "      <td>DISAGREEMENT</td>\n",
       "    </tr>\n",
       "    <tr>\n",
       "      <th>3993</th>\n",
       "      <td>Viendo a José Mota, que grande!!</td>\n",
       "      <td>P+</td>\n",
       "      <td>AGREEMENT</td>\n",
       "    </tr>\n",
       "    <tr>\n",
       "      <th>3336</th>\n",
       "      <td>El esperpento http://t.co/ONA7BfoB</td>\n",
       "      <td>N</td>\n",
       "      <td>AGREEMENT</td>\n",
       "    </tr>\n",
       "    <tr>\n",
       "      <th>5177</th>\n",
       "      <td>Hola, buenas noches a todos. Esta es la portada de hoy, domingo, 4 de marzo http://t.co/sqmkhA1F</td>\n",
       "      <td>P</td>\n",
       "      <td>AGREEMENT</td>\n",
       "    </tr>\n",
       "    <tr>\n",
       "      <th>2211</th>\n",
       "      <td>En octubre celebraremos el II Fórum de los Archipiélagos, esperamos esta vez en Baleares a instituciones y empresas de Canarias...</td>\n",
       "      <td>P</td>\n",
       "      <td>AGREEMENT</td>\n",
       "    </tr>\n",
       "    <tr>\n",
       "      <th>674</th>\n",
       "      <td>Esperando tratamiento...  http://t.co/bzSNqLUj</td>\n",
       "      <td>N</td>\n",
       "      <td>AGREEMENT</td>\n",
       "    </tr>\n",
       "    <tr>\n",
       "      <th>354</th>\n",
       "      <td>@Pablo_Iglesias_ gracias te agradezco q me avises ya puse la tv. Las ideas q he podido escuchar en otras ocasiones tienen mucha  lógica</td>\n",
       "      <td>P</td>\n",
       "      <td></td>\n",
       "    </tr>\n",
       "  </tbody>\n",
       "</table>\n",
       "</div>"
      ],
      "text/plain": [
       "                                                                                                                                          content  \\\n",
       "300                                                                      Ey que los del  Barça  se quedan mirando. Ya tienen algo de que presumir   \n",
       "6989                                               Consolación y lagrimas. Es preciosa . #malagasanta #cofradiasmlg #malaga  http://t.co/9RLa749u   \n",
       "2213      Estupendo, si estoy hablamos “@JoseNicolas13: Notición! Nos avisa nuestro profesor de que ha concertado una visita a EM el 27 de Enero.   \n",
       "1595            Pues nada, una época dorada llega a su fin!!! Enhorabuena a los  madridistas  que están todo el año, no a los que salen sólo hoy.   \n",
       "6230                                                                                                La gente está sobrecogidahttp://t.co/cGVyaibU   \n",
       "667                                                              @MafeSaavedrap naaaaaa muy de buenas. Como se Salvan al minuto 89 De  Neymar  :D   \n",
       "1204  Esta noche, a partir de las doce, nos vemos en @13television @DHAM_13tv con @alfonsomerlos y el análisis del nuevo gobierno d @marianorajoy   \n",
       "639                                                        RT @delahozm: @sevillajordi @anarcanil @susannagriso Allí estaremos en un par de horas   \n",
       "642                 Explosiona un pequeño artefacto junto al Estadio Olímpico de La Cartuja / Estaba oculto en una jardinera http://t.co/wryiOZO4   \n",
       "5383                               Nuestra portada: emprendedores de Youtube “@quediario QUÉ! del jueves 8 de marzo de 2012 http://t.co/LCAjKPor”   \n",
       "2648  #FF RT @SantyUrbaneja: @MayteOtero @Andreita_ae @virginiacanadas @Milamorr @melina_cm @encarnialvarez @DoriLuque  me sumo #FF para todas!!!   \n",
       "1581                                                                                              Que no se podia ganar sin  Cristiano ? XUPEN???   \n",
       "2045                            Y aquí el equipo del Telediario matinal haciendo el traspaso de poderes a #losdesayunosdetve http://t.co/163jKTi8   \n",
       "3524                  Ah muy bien. A ver si al proximo festival me invitan ;)  RT @GVM2010: @AlejandroSanz Cantó Alex (cont) http://t.co/c5DHpMJO   \n",
       "3993                                                                                                             Viendo a José Mota, que grande!!   \n",
       "3336                                                                                                           El esperpento http://t.co/ONA7BfoB   \n",
       "5177                                             Hola, buenas noches a todos. Esta es la portada de hoy, domingo, 4 de marzo http://t.co/sqmkhA1F   \n",
       "2211           En octubre celebraremos el II Fórum de los Archipiélagos, esperamos esta vez en Baleares a instituciones y empresas de Canarias...   \n",
       "674                                                                                                Esperando tratamiento...  http://t.co/bzSNqLUj   \n",
       "354       @Pablo_Iglesias_ gracias te agradezco q me avises ya puse la tv. Las ideas q he podido escuchar en otras ocasiones tienen mucha  lógica   \n",
       "\n",
       "     polarity     agreement  \n",
       "300         N                \n",
       "6989       P+     AGREEMENT  \n",
       "2213       P+     AGREEMENT  \n",
       "1595        P                \n",
       "6230        N     AGREEMENT  \n",
       "667       NEU                \n",
       "1204     NONE     AGREEMENT  \n",
       "639      NONE     AGREEMENT  \n",
       "642        N+     AGREEMENT  \n",
       "5383     NONE     AGREEMENT  \n",
       "2648        P     AGREEMENT  \n",
       "1581      NEU                \n",
       "2045     NONE     AGREEMENT  \n",
       "3524        P  DISAGREEMENT  \n",
       "3993       P+     AGREEMENT  \n",
       "3336        N     AGREEMENT  \n",
       "5177        P     AGREEMENT  \n",
       "2211        P     AGREEMENT  \n",
       "674         N     AGREEMENT  \n",
       "354         P                "
      ]
     },
     "execution_count": 146,
     "metadata": {},
     "output_type": "execute_result"
    }
   ],
   "source": [
    "tweets_corpus = pd.concat([\n",
    "        general_tweets_corpus_train,\n",
    "        social_tweets_corpus_train,\n",
    "        stompol_tweets_train_tagged,\n",
    "        #tweet_testeo,\n",
    "    ])\n",
    "tweets_corpus.sample(20)"
   ]
  },
  {
   "cell_type": "markdown",
   "metadata": {},
   "source": [
    "Filtramos tweets en desacuerdo y sin polaridad y removemos los tweets que son solo hipervinculos"
   ]
  },
  {
   "cell_type": "code",
   "execution_count": 147,
   "metadata": {},
   "outputs": [],
   "source": [
    "tweets_corpus = tweets_corpus.query('agreement != \"DISAGREEMENT\" and polarity != \"NONE\"')\n",
    "tweets_corpus = tweets_corpus[-tweets_corpus.content.str.contains('^http.*$')]"
   ]
  },
  {
   "cell_type": "code",
   "execution_count": 148,
   "metadata": {},
   "outputs": [
    {
     "data": {
      "text/plain": [
       "22650"
      ]
     },
     "execution_count": 148,
     "metadata": {},
     "output_type": "execute_result"
    }
   ],
   "source": [
    "tweets_corpus.size  #tamaño vector entrenamiento"
   ]
  },
  {
   "cell_type": "code",
   "execution_count": 149,
   "metadata": {},
   "outputs": [
    {
     "data": {
      "text/html": [
       "<div>\n",
       "<style scoped>\n",
       "    .dataframe tbody tr th:only-of-type {\n",
       "        vertical-align: middle;\n",
       "    }\n",
       "\n",
       "    .dataframe tbody tr th {\n",
       "        vertical-align: top;\n",
       "    }\n",
       "\n",
       "    .dataframe thead th {\n",
       "        text-align: right;\n",
       "    }\n",
       "</style>\n",
       "<table border=\"1\" class=\"dataframe\">\n",
       "  <thead>\n",
       "    <tr style=\"text-align: right;\">\n",
       "      <th></th>\n",
       "      <th>content</th>\n",
       "      <th>polarity</th>\n",
       "      <th>agreement</th>\n",
       "    </tr>\n",
       "  </thead>\n",
       "  <tbody>\n",
       "    <tr>\n",
       "      <th>43</th>\n",
       "      <td>@cmgorriaran @DANIEL_FM_TUIT @UPyD lo dicho, no me  parece que ayude a quitar la imagen  de que  UPyD desaparece ...</td>\n",
       "      <td>N</td>\n",
       "      <td></td>\n",
       "    </tr>\n",
       "    <tr>\n",
       "      <th>2478</th>\n",
       "      <td>Desprecio a las leyes..El TSJA anula la integración del personal de Egmasa en la agencia del enchufismo http://t.co/c3X2Sq0w via @elmundoes</td>\n",
       "      <td>N</td>\n",
       "      <td>AGREEMENT</td>\n",
       "    </tr>\n",
       "    <tr>\n",
       "      <th>1241</th>\n",
       "      <td>El césped de Mestalla estaba molt alt   Xavi Hernández , jugador del  Barça , acaba de perder la  Copa del Rey .</td>\n",
       "      <td>N</td>\n",
       "      <td></td>\n",
       "    </tr>\n",
       "    <tr>\n",
       "      <th>1697</th>\n",
       "      <td>\"A Todos Los  BArcelonistas  aki esta la  copa del Rey  Primero Dios la  liga  y la  Champions   HdP .      Hala  Madrid  &lt;3 http://t.co/CBhjszmolr\"</td>\n",
       "      <td>N</td>\n",
       "      <td></td>\n",
       "    </tr>\n",
       "    <tr>\n",
       "      <th>5158</th>\n",
       "      <td>Buenos días a todos!</td>\n",
       "      <td>P</td>\n",
       "      <td>AGREEMENT</td>\n",
       "    </tr>\n",
       "    <tr>\n",
       "      <th>1076</th>\n",
       "      <td>Para todos vosotros, pa que lo disfruteis! Un beso!!  #HalaMadrid  http://t.co/ocWyO8ALOd</td>\n",
       "      <td>P</td>\n",
       "      <td></td>\n",
       "    </tr>\n",
       "    <tr>\n",
       "      <th>3192</th>\n",
       "      <td>No me gusta el artículo de @el_pais contra Carme Chacón. Dar patadas a Barroso en el trasero de Chacón es venganza, no información. #feofeo</td>\n",
       "      <td>N+</td>\n",
       "      <td>AGREEMENT</td>\n",
       "    </tr>\n",
       "    <tr>\n",
       "      <th>59</th>\n",
       "      <td>Me gustaría saber si @CiudadanosCs se ha planteado la eliminación completa d la  Ley del menor.  Si se comete crimen d adulto se paga como tal</td>\n",
       "      <td>NEU</td>\n",
       "      <td></td>\n",
       "    </tr>\n",
       "    <tr>\n",
       "      <th>2615</th>\n",
       "      <td>No tenemos nada que ocultar, si apoyan una comisión de investigación sobre la crisis y sus responsables seremos los primeros. Un paripé no.</td>\n",
       "      <td>P</td>\n",
       "      <td>AGREEMENT</td>\n",
       "    </tr>\n",
       "    <tr>\n",
       "      <th>3870</th>\n",
       "      <td>“@RosEnrique: @PaulaVazquezTV leer?????? Esta sobrevalorado, besos desde Malaga” eso es que lo has practicado poco!</td>\n",
       "      <td>NEU</td>\n",
       "      <td>AGREEMENT</td>\n",
       "    </tr>\n",
       "  </tbody>\n",
       "</table>\n",
       "</div>"
      ],
      "text/plain": [
       "                                                                                                                                                   content  \\\n",
       "43                                    @cmgorriaran @DANIEL_FM_TUIT @UPyD lo dicho, no me  parece que ayude a quitar la imagen  de que  UPyD desaparece ...   \n",
       "2478           Desprecio a las leyes..El TSJA anula la integración del personal de Egmasa en la agencia del enchufismo http://t.co/c3X2Sq0w via @elmundoes   \n",
       "1241                                      El césped de Mestalla estaba molt alt   Xavi Hernández , jugador del  Barça , acaba de perder la  Copa del Rey .   \n",
       "1697  \"A Todos Los  BArcelonistas  aki esta la  copa del Rey  Primero Dios la  liga  y la  Champions   HdP .      Hala  Madrid  <3 http://t.co/CBhjszmolr\"   \n",
       "5158                                                                                                                                  Buenos días a todos!   \n",
       "1076                                                             Para todos vosotros, pa que lo disfruteis! Un beso!!  #HalaMadrid  http://t.co/ocWyO8ALOd   \n",
       "3192           No me gusta el artículo de @el_pais contra Carme Chacón. Dar patadas a Barroso en el trasero de Chacón es venganza, no información. #feofeo   \n",
       "59          Me gustaría saber si @CiudadanosCs se ha planteado la eliminación completa d la  Ley del menor.  Si se comete crimen d adulto se paga como tal   \n",
       "2615           No tenemos nada que ocultar, si apoyan una comisión de investigación sobre la crisis y sus responsables seremos los primeros. Un paripé no.   \n",
       "3870                                   “@RosEnrique: @PaulaVazquezTV leer?????? Esta sobrevalorado, besos desde Malaga” eso es que lo has practicado poco!   \n",
       "\n",
       "     polarity  agreement  \n",
       "43          N             \n",
       "2478        N  AGREEMENT  \n",
       "1241        N             \n",
       "1697        N             \n",
       "5158        P  AGREEMENT  \n",
       "1076        P             \n",
       "3192       N+  AGREEMENT  \n",
       "59        NEU             \n",
       "2615        P  AGREEMENT  \n",
       "3870      NEU  AGREEMENT  "
      ]
     },
     "execution_count": 149,
     "metadata": {},
     "output_type": "execute_result"
    }
   ],
   "source": [
    "tweets_corpus.sample(10)"
   ]
  },
  {
   "cell_type": "markdown",
   "metadata": {},
   "source": [
    "Seguiremos con el proceso de Tokenizar y stemming"
   ]
  },
  {
   "cell_type": "markdown",
   "metadata": {},
   "source": [
    "Primero descargaremos las stopwords"
   ]
  },
  {
   "cell_type": "code",
   "execution_count": 150,
   "metadata": {},
   "outputs": [
    {
     "name": "stderr",
     "output_type": "stream",
     "text": [
      "[nltk_data] Downloading package stopwords to\n",
      "[nltk_data]     /home/jromanf/nltk_data...\n",
      "[nltk_data]   Package stopwords is already up-to-date!\n"
     ]
    },
    {
     "data": {
      "text/plain": [
       "True"
      ]
     },
     "execution_count": 150,
     "metadata": {},
     "output_type": "execute_result"
    }
   ],
   "source": [
    "import nltk\n",
    "nltk.download(\"stopwords\")"
   ]
  },
  {
   "cell_type": "markdown",
   "metadata": {},
   "source": [
    "Luego cargaremos las stopwords en español"
   ]
  },
  {
   "cell_type": "code",
   "execution_count": 151,
   "metadata": {},
   "outputs": [],
   "source": [
    "from nltk.corpus import stopwords\n",
    "spanish_stopwords = stopwords.words('spanish')"
   ]
  },
  {
   "cell_type": "code",
   "execution_count": 152,
   "metadata": {},
   "outputs": [],
   "source": [
    "from string import punctuation\n",
    "non_words = list(punctuation)\n",
    "#we add spanish punctuation\n",
    "non_words.extend(['¿', '¡'])\n",
    "non_words.extend(map(str,range(10)))"
   ]
  },
  {
   "cell_type": "markdown",
   "metadata": {},
   "source": [
    "Creamos a continuación las funciones para token y stemm"
   ]
  },
  {
   "cell_type": "code",
   "execution_count": 153,
   "metadata": {},
   "outputs": [],
   "source": [
    "#Funcion token, stem\n",
    "from sklearn.feature_extraction.text import CountVectorizer       \n",
    "from nltk.stem import SnowballStemmer\n",
    "from nltk.tokenize import word_tokenize\n",
    "\n",
    "\n",
    "stemmer = SnowballStemmer('spanish')\n",
    "def stem_tokens(tokens, stemmer):\n",
    "    stemmed = []\n",
    "    for item in tokens:\n",
    "        stemmed.append(stemmer.stem(item))\n",
    "    return stemmed\n",
    "\n",
    "def tokenize(text):\n",
    "    # remove non letters\n",
    "    text = ''.join([c for c in text if c not in non_words])\n",
    "    # tokenize\n",
    "    tokens =  word_tokenize(text)\n",
    "\n",
    "    # stem\n",
    "    try:\n",
    "        stems = stem_tokens(tokens, stemmer)\n",
    "    except Exception as e:\n",
    "        print(e)\n",
    "        print(text)\n",
    "        stems = ['']\n",
    "    return stems\n"
   ]
  },
  {
   "cell_type": "markdown",
   "metadata": {},
   "source": [
    "Vamos a evaluar el modelo con los tweets que tienen una polaridad diferente a la neutral"
   ]
  },
  {
   "cell_type": "code",
   "execution_count": 154,
   "metadata": {
    "scrolled": true
   },
   "outputs": [
    {
     "name": "stderr",
     "output_type": "stream",
     "text": [
      "/opt/anaconda3/lib/python3.6/site-packages/ipykernel_launcher.py:8: SettingWithCopyWarning: \n",
      "A value is trying to be set on a copy of a slice from a DataFrame\n",
      "\n",
      "See the caveats in the documentation: http://pandas.pydata.org/pandas-docs/stable/indexing.html#indexing-view-versus-copy\n",
      "  \n"
     ]
    },
    {
     "data": {
      "text/plain": [
       "1    0.548709\n",
       "0    0.451291\n",
       "Name: polarity_bin, dtype: float64"
      ]
     },
     "execution_count": 154,
     "metadata": {},
     "output_type": "execute_result"
    }
   ],
   "source": [
    "from sklearn.model_selection import cross_val_score\n",
    "from sklearn.svm import LinearSVC\n",
    "from sklearn.pipeline import Pipeline\n",
    "\n",
    "tweets_corpus = tweets_corpus[tweets_corpus.polarity != 'NEU']\n",
    "\n",
    "tweets_corpus['polarity_bin'] = 0\n",
    "tweets_corpus.polarity_bin[tweets_corpus.polarity.isin(['P', 'P+'])] = 1\n",
    "tweets_corpus.polarity_bin.value_counts(normalize=True)"
   ]
  },
  {
   "cell_type": "code",
   "execution_count": 155,
   "metadata": {},
   "outputs": [
    {
     "data": {
      "text/html": [
       "<div>\n",
       "<style scoped>\n",
       "    .dataframe tbody tr th:only-of-type {\n",
       "        vertical-align: middle;\n",
       "    }\n",
       "\n",
       "    .dataframe tbody tr th {\n",
       "        vertical-align: top;\n",
       "    }\n",
       "\n",
       "    .dataframe thead th {\n",
       "        text-align: right;\n",
       "    }\n",
       "</style>\n",
       "<table border=\"1\" class=\"dataframe\">\n",
       "  <thead>\n",
       "    <tr style=\"text-align: right;\">\n",
       "      <th></th>\n",
       "      <th>content</th>\n",
       "      <th>polarity</th>\n",
       "      <th>agreement</th>\n",
       "      <th>polarity_bin</th>\n",
       "    </tr>\n",
       "  </thead>\n",
       "  <tbody>\n",
       "    <tr>\n",
       "      <th>5868</th>\n",
       "      <td>\"La herencia del @PSOE : trabajos a ratos y 5 euros la hora\" Editorial @13tv_AlDia @13television 20.30h . ¡Gracias Zapatero!</td>\n",
       "      <td>N</td>\n",
       "      <td>AGREEMENT</td>\n",
       "      <td>0</td>\n",
       "    </tr>\n",
       "    <tr>\n",
       "      <th>7209</th>\n",
       "      <td>Rick Santorum se retira de la campaña en las primarias republicanas  http://t.co/Kgc23FMX via @el_pais</td>\n",
       "      <td>N</td>\n",
       "      <td>AGREEMENT</td>\n",
       "      <td>0</td>\n",
       "    </tr>\n",
       "    <tr>\n",
       "      <th>3572</th>\n",
       "      <td>El ejemplo del IRPF es simplificado irreal, demagogia. Mal rollo.</td>\n",
       "      <td>N+</td>\n",
       "      <td>AGREEMENT</td>\n",
       "      <td>0</td>\n",
       "    </tr>\n",
       "    <tr>\n",
       "      <th>5199</th>\n",
       "      <td>RT: “@doctorchuslolo: seria Ras-Putin al que no consiguieron matar y consiguio el secreto de la eterna juventud. Jordi Hurtado sovietico”</td>\n",
       "      <td>P+</td>\n",
       "      <td>AGREEMENT</td>\n",
       "      <td>1</td>\n",
       "    </tr>\n",
       "    <tr>\n",
       "      <th>4370</th>\n",
       "      <td>En la #C_A_2012 \"La reforma laboral propone despedir barato a los mayores para contratar en precario a los jóvenes\"</td>\n",
       "      <td>N+</td>\n",
       "      <td>AGREEMENT</td>\n",
       "      <td>0</td>\n",
       "    </tr>\n",
       "    <tr>\n",
       "      <th>4839</th>\n",
       "      <td>Saldremos d una crisis provocada x una desregulación financiera mediante una desregulación laboral?</td>\n",
       "      <td>N+</td>\n",
       "      <td>AGREEMENT</td>\n",
       "      <td>0</td>\n",
       "    </tr>\n",
       "    <tr>\n",
       "      <th>5454</th>\n",
       "      <td>Libertad religiosa y libertad educativa, pdtes de Estrasburgo. hablamos con un experto internacional. @TelediarioInter 20:30</td>\n",
       "      <td>P+</td>\n",
       "      <td>AGREEMENT</td>\n",
       "      <td>1</td>\n",
       "    </tr>\n",
       "    <tr>\n",
       "      <th>5079</th>\n",
       "      <td>@_Rubalcaba_ \"La violencia es detestable, pero el problema es que haya quien quiera relacionar al PSOE con la violencia\"</td>\n",
       "      <td>N+</td>\n",
       "      <td>AGREEMENT</td>\n",
       "      <td>0</td>\n",
       "    </tr>\n",
       "  </tbody>\n",
       "</table>\n",
       "</div>"
      ],
      "text/plain": [
       "                                                                                                                                        content  \\\n",
       "5868               \"La herencia del @PSOE : trabajos a ratos y 5 euros la hora\" Editorial @13tv_AlDia @13television 20.30h . ¡Gracias Zapatero!   \n",
       "7209                                     Rick Santorum se retira de la campaña en las primarias republicanas  http://t.co/Kgc23FMX via @el_pais   \n",
       "3572                                                                          El ejemplo del IRPF es simplificado irreal, demagogia. Mal rollo.   \n",
       "5199  RT: “@doctorchuslolo: seria Ras-Putin al que no consiguieron matar y consiguio el secreto de la eterna juventud. Jordi Hurtado sovietico”   \n",
       "4370                        En la #C_A_2012 \"La reforma laboral propone despedir barato a los mayores para contratar en precario a los jóvenes\"   \n",
       "4839                                        Saldremos d una crisis provocada x una desregulación financiera mediante una desregulación laboral?   \n",
       "5454               Libertad religiosa y libertad educativa, pdtes de Estrasburgo. hablamos con un experto internacional. @TelediarioInter 20:30   \n",
       "5079                   @_Rubalcaba_ \"La violencia es detestable, pero el problema es que haya quien quiera relacionar al PSOE con la violencia\"   \n",
       "\n",
       "     polarity  agreement  polarity_bin  \n",
       "5868        N  AGREEMENT             0  \n",
       "7209        N  AGREEMENT             0  \n",
       "3572       N+  AGREEMENT             0  \n",
       "5199       P+  AGREEMENT             1  \n",
       "4370       N+  AGREEMENT             0  \n",
       "4839       N+  AGREEMENT             0  \n",
       "5454       P+  AGREEMENT             1  \n",
       "5079       N+  AGREEMENT             0  "
      ]
     },
     "execution_count": 155,
     "metadata": {},
     "output_type": "execute_result"
    }
   ],
   "source": [
    "tweets_corpus.sample(8)"
   ]
  },
  {
   "cell_type": "code",
   "execution_count": 156,
   "metadata": {},
   "outputs": [],
   "source": [
    "#Validacion cruzada\n",
    "from sklearn.model_selection import train_test_split\n",
    "X_train, X_test, y_train, y_test = train_test_split(tweets_corpus, tweets_corpus.polarity_bin, test_size=0.3, random_state=0)"
   ]
  },
  {
   "cell_type": "code",
   "execution_count": 157,
   "metadata": {},
   "outputs": [
    {
     "data": {
      "text/plain": [
       "((4634, 4), (1987, 4), (6621, 4), (4634,), (1987,), (6621,))"
      ]
     },
     "execution_count": 157,
     "metadata": {},
     "output_type": "execute_result"
    }
   ],
   "source": [
    "X_train.shape,X_test.shape, tweets_corpus.shape,y_train.shape,y_test.shape,tweets_corpus.polarity_bin.shape"
   ]
  },
  {
   "cell_type": "code",
   "execution_count": 158,
   "metadata": {},
   "outputs": [
    {
     "data": {
      "text/plain": [
       "2    1\n",
       "3    0\n",
       "4    1\n",
       "6    1\n",
       "8    1\n",
       "Name: polarity_bin, dtype: int64"
      ]
     },
     "execution_count": 158,
     "metadata": {},
     "output_type": "execute_result"
    }
   ],
   "source": [
    "tweets_corpus.polarity_bin.head()"
   ]
  },
  {
   "cell_type": "code",
   "execution_count": 159,
   "metadata": {},
   "outputs": [],
   "source": [
    "#SVM\n",
    "from sklearn.svm import LinearSVC\n",
    "from sklearn.pipeline import Pipeline\n",
    "\n",
    "#Creamos un Pipeline con los parámetros mejores\n",
    "pipeline = Pipeline([\n",
    "    ('vect', CountVectorizer(\n",
    "            analyzer = 'word',\n",
    "            tokenizer = tokenize,\n",
    "            lowercase = True,\n",
    "            stop_words = spanish_stopwords,\n",
    "            min_df = 50,\n",
    "            max_df = 1.9,\n",
    "            ngram_range=(1, 1),\n",
    "            max_features=1000\n",
    "            )),\n",
    "    ('cls', LinearSVC(C=.2, loss='squared_hinge',max_iter=1000,multi_class='ovr',\n",
    "             random_state=None,\n",
    "             penalty='l2',\n",
    "             tol=0.0001\n",
    "             )),\n",
    "])"
   ]
  },
  {
   "cell_type": "code",
   "execution_count": null,
   "metadata": {
    "scrolled": true
   },
   "outputs": [],
   "source": []
  },
  {
   "cell_type": "code",
   "execution_count": 160,
   "metadata": {},
   "outputs": [
    {
     "name": "stderr",
     "output_type": "stream",
     "text": [
      "/opt/anaconda3/lib/python3.6/site-packages/sklearn/feature_extraction/text.py:300: UserWarning: Your stop_words may be inconsistent with your preprocessing. Tokenizing the stop words generated tokens ['algun', 'com', 'contr', 'cuand', 'desd', 'dond', 'durant', 'eram', 'estab', 'estais', 'estam', 'estan', 'estand', 'estaran', 'estaras', 'esteis', 'estem', 'esten', 'estes', 'estuv', 'fuer', 'fues', 'fuim', 'fuist', 'hab', 'habr', 'habran', 'habras', 'hast', 'hem', 'hub', 'mas', 'mia', 'mias', 'mio', 'mios', 'much', 'nad', 'nosotr', 'nuestr', 'par', 'per', 'poc', 'porqu', 'qui', 'seais', 'seam', 'sent', 'ser', 'seran', 'seras', 'si', 'sient', 'sint', 'sobr', 'som', 'suy', 'tambien', 'tant', 'ten', 'tendr', 'tendran', 'tendras', 'teng', 'tien', 'tod', 'tuv', 'tuy', 'vosotr', 'vuestr'] not in stop_words.\n",
      "  'stop_words.' % sorted(inconsistent))\n"
     ]
    },
    {
     "data": {
      "text/plain": [
       "Pipeline(memory=None,\n",
       "         steps=[('vect',\n",
       "                 CountVectorizer(analyzer='word', binary=False,\n",
       "                                 decode_error='strict',\n",
       "                                 dtype=<class 'numpy.int64'>, encoding='utf-8',\n",
       "                                 input='content', lowercase=True, max_df=1.9,\n",
       "                                 max_features=1000, min_df=50,\n",
       "                                 ngram_range=(1, 1), preprocessor=None,\n",
       "                                 stop_words=['de', 'la', 'que', 'el', 'en', 'y',\n",
       "                                             'a', 'los', 'del', 'se', 'las',\n",
       "                                             'por', 'un', 'para', 'con', 'no'...\n",
       "                                             'o', 'este', 'sí', 'porque', ...],\n",
       "                                 strip_accents=None,\n",
       "                                 token_pattern='(?u)\\\\b\\\\w\\\\w+\\\\b',\n",
       "                                 tokenizer=<function tokenize at 0x7f1c90bbd840>,\n",
       "                                 vocabulary=None)),\n",
       "                ('cls',\n",
       "                 LinearSVC(C=0.2, class_weight=None, dual=True,\n",
       "                           fit_intercept=True, intercept_scaling=1,\n",
       "                           loss='squared_hinge', max_iter=1000,\n",
       "                           multi_class='ovr', penalty='l2', random_state=None,\n",
       "                           tol=0.0001, verbose=0))],\n",
       "         verbose=False)"
      ]
     },
     "execution_count": 160,
     "metadata": {},
     "output_type": "execute_result"
    }
   ],
   "source": [
    "#ajustamos el modelo at corpus de TASS SVM\n",
    "pipeline.fit(X_train.content, y_train)"
   ]
  },
  {
   "cell_type": "markdown",
   "metadata": {},
   "source": [
    "A continuación cargamos los textos para el análisis de sentimiento, en este caso un conjunto de tweets y los\n",
    "organizamos en el formato requerido"
   ]
  },
  {
   "cell_type": "code",
   "execution_count": 161,
   "metadata": {},
   "outputs": [
    {
     "data": {
      "text/html": [
       "<div>\n",
       "<style scoped>\n",
       "    .dataframe tbody tr th:only-of-type {\n",
       "        vertical-align: middle;\n",
       "    }\n",
       "\n",
       "    .dataframe tbody tr th {\n",
       "        vertical-align: top;\n",
       "    }\n",
       "\n",
       "    .dataframe thead th {\n",
       "        text-align: right;\n",
       "    }\n",
       "</style>\n",
       "<table border=\"1\" class=\"dataframe\">\n",
       "  <thead>\n",
       "    <tr style=\"text-align: right;\">\n",
       "      <th></th>\n",
       "      <th>content</th>\n",
       "      <th>polarity</th>\n",
       "      <th>agreement</th>\n",
       "      <th>polarity_bin</th>\n",
       "    </tr>\n",
       "  </thead>\n",
       "  <tbody>\n",
       "    <tr>\n",
       "      <th>1216</th>\n",
       "      <td>Oficialmente se acabo la época del  Barcelona . Un golpe duro perder la  copa . Ya sin  Champions  y casi sin  Liga . Es un año oscuro para e Barca</td>\n",
       "      <td>N</td>\n",
       "      <td></td>\n",
       "      <td>0</td>\n",
       "    </tr>\n",
       "    <tr>\n",
       "      <th>6786</th>\n",
       "      <td>Asistimos a una involución democrática, laboral, social y ahora fiscal. El PP está tensando demasiado la cuerda contra demasiadas personas.</td>\n",
       "      <td>N+</td>\n",
       "      <td>AGREEMENT</td>\n",
       "      <td>0</td>\n",
       "    </tr>\n",
       "    <tr>\n",
       "      <th>1555</th>\n",
       "      <td>Ojalá que 2012 sea el año de la erradicación de otra clase de terrorismo, el de la violencia machista #MensajeGriñan</td>\n",
       "      <td>P</td>\n",
       "      <td>AGREEMENT</td>\n",
       "      <td>1</td>\n",
       "    </tr>\n",
       "    <tr>\n",
       "      <th>3587</th>\n",
       "      <td>Gane quien gane pierde el PSOE y España. El PSOE necesita una renovación mas profunda.</td>\n",
       "      <td>N</td>\n",
       "      <td>AGREEMENT</td>\n",
       "      <td>0</td>\n",
       "    </tr>\n",
       "    <tr>\n",
       "      <th>80</th>\n",
       "      <td>@Kelpie75 @anguitista @Susana_Vila @agarzon. El  marxismo de los dirigentes  de IUCM. Aki yo huelo otros intereses. Me despido</td>\n",
       "      <td>N</td>\n",
       "      <td></td>\n",
       "      <td>0</td>\n",
       "    </tr>\n",
       "  </tbody>\n",
       "</table>\n",
       "</div>"
      ],
      "text/plain": [
       "                                                                                                                                                  content  \\\n",
       "1216  Oficialmente se acabo la época del  Barcelona . Un golpe duro perder la  copa . Ya sin  Champions  y casi sin  Liga . Es un año oscuro para e Barca   \n",
       "6786          Asistimos a una involución democrática, laboral, social y ahora fiscal. El PP está tensando demasiado la cuerda contra demasiadas personas.   \n",
       "1555                                 Ojalá que 2012 sea el año de la erradicación de otra clase de terrorismo, el de la violencia machista #MensajeGriñan   \n",
       "3587                                                               Gane quien gane pierde el PSOE y España. El PSOE necesita una renovación mas profunda.   \n",
       "80                         @Kelpie75 @anguitista @Susana_Vila @agarzon. El  marxismo de los dirigentes  de IUCM. Aki yo huelo otros intereses. Me despido   \n",
       "\n",
       "     polarity  agreement  polarity_bin  \n",
       "1216        N                        0  \n",
       "6786       N+  AGREEMENT             0  \n",
       "1555        P  AGREEMENT             1  \n",
       "3587        N  AGREEMENT             0  \n",
       "80          N                        0  "
      ]
     },
     "execution_count": 161,
     "metadata": {},
     "output_type": "execute_result"
    }
   ],
   "source": [
    "#Cargar textos para el analisis vector Test\n",
    "X_test.head()"
   ]
  },
  {
   "cell_type": "code",
   "execution_count": 162,
   "metadata": {},
   "outputs": [
    {
     "name": "stderr",
     "output_type": "stream",
     "text": [
      "/opt/anaconda3/lib/python3.6/site-packages/ipykernel_launcher.py:2: SettingWithCopyWarning: \n",
      "A value is trying to be set on a copy of a slice from a DataFrame.\n",
      "Try using .loc[row_indexer,col_indexer] = value instead\n",
      "\n",
      "See the caveats in the documentation: http://pandas.pydata.org/pandas-docs/stable/indexing.html#indexing-view-versus-copy\n",
      "  \n"
     ]
    }
   ],
   "source": [
    "#Metemos los datos al modelo SVM\n",
    "X_test['polaridad_SVM'] = pipeline.predict(X_test.content)"
   ]
  },
  {
   "cell_type": "code",
   "execution_count": 163,
   "metadata": {},
   "outputs": [
    {
     "name": "stderr",
     "output_type": "stream",
     "text": [
      "/opt/anaconda3/lib/python3.6/site-packages/ipykernel_launcher.py:16: SettingWithCopyWarning: \n",
      "A value is trying to be set on a copy of a slice from a DataFrame.\n",
      "Try using .loc[row_indexer,col_indexer] = value instead\n",
      "\n",
      "See the caveats in the documentation: http://pandas.pydata.org/pandas-docs/stable/indexing.html#indexing-view-versus-copy\n",
      "  app.launch_new_instance()\n"
     ]
    }
   ],
   "source": [
    "## Ahora probaremos con kNN ##\n",
    "from sklearn.feature_extraction.text import TfidfVectorizer\n",
    "from sklearn.neighbors import KNeighborsClassifier\n",
    "\n",
    "vectorizer = TfidfVectorizer(stop_words=spanish_stopwords)\n",
    "X = vectorizer.fit_transform(X_train.content)\n",
    "\n",
    "# Clustering the document with KNN classifier 10 vecinos\n",
    "modelknn = KNeighborsClassifier(n_neighbors=10)\n",
    "modelknn.fit(X,y_train)\n",
    "\n",
    "#metiendo los datos de prueba\n",
    "Test = vectorizer.transform(X_test.content)\n",
    "predicted_labels_knn = modelknn.predict(Test)\n",
    "\n",
    "X_test['polarity_kNN'] = predicted_labels_knn"
   ]
  },
  {
   "cell_type": "code",
   "execution_count": 164,
   "metadata": {},
   "outputs": [
    {
     "data": {
      "text/plain": [
       "0.712128837443382"
      ]
     },
     "execution_count": 164,
     "metadata": {},
     "output_type": "execute_result"
    }
   ],
   "source": [
    "#Porcentaje de acierto\n",
    "pipeline.score(X_test.content,y_test)"
   ]
  },
  {
   "cell_type": "code",
   "execution_count": 165,
   "metadata": {},
   "outputs": [
    {
     "data": {
      "text/html": [
       "<div>\n",
       "<style scoped>\n",
       "    .dataframe tbody tr th:only-of-type {\n",
       "        vertical-align: middle;\n",
       "    }\n",
       "\n",
       "    .dataframe tbody tr th {\n",
       "        vertical-align: top;\n",
       "    }\n",
       "\n",
       "    .dataframe thead th {\n",
       "        text-align: right;\n",
       "    }\n",
       "</style>\n",
       "<table border=\"1\" class=\"dataframe\">\n",
       "  <thead>\n",
       "    <tr style=\"text-align: right;\">\n",
       "      <th></th>\n",
       "      <th>content</th>\n",
       "      <th>polarity</th>\n",
       "      <th>agreement</th>\n",
       "      <th>polarity_bin</th>\n",
       "      <th>polaridad_SVM</th>\n",
       "      <th>polarity_kNN</th>\n",
       "    </tr>\n",
       "  </thead>\n",
       "  <tbody>\n",
       "    <tr>\n",
       "      <th>5374</th>\n",
       "      <td>El despilfarro del gobierno catalán es un suma y sigue. E el @TelediarioInter 20:30</td>\n",
       "      <td>N+</td>\n",
       "      <td>AGREEMENT</td>\n",
       "      <td>0</td>\n",
       "      <td>0</td>\n",
       "      <td>0</td>\n",
       "    </tr>\n",
       "    <tr>\n",
       "      <th>5896</th>\n",
       "      <td>Confirmado: el marido de #Cospedal renuncia a ser consejero de Red Eléctrica Española, participada por el Estado</td>\n",
       "      <td>N</td>\n",
       "      <td>AGREEMENT</td>\n",
       "      <td>0</td>\n",
       "      <td>1</td>\n",
       "      <td>0</td>\n",
       "    </tr>\n",
       "    <tr>\n",
       "      <th>4247</th>\n",
       "      <td>@GUTY14HAZ  gracias amigo!!!! Enhorabuena por tu futura boda te deseo lo mejor!</td>\n",
       "      <td>P+</td>\n",
       "      <td>AGREEMENT</td>\n",
       "      <td>1</td>\n",
       "      <td>1</td>\n",
       "      <td>1</td>\n",
       "    </tr>\n",
       "    <tr>\n",
       "      <th>1819</th>\n",
       "      <td>Gabino de Lorenzo delegado del gobierno y Cascos presidente. No nos queda nada. El poder de la testosterona y la debilidad de Asturias.</td>\n",
       "      <td>N</td>\n",
       "      <td>AGREEMENT</td>\n",
       "      <td>0</td>\n",
       "      <td>0</td>\n",
       "      <td>0</td>\n",
       "    </tr>\n",
       "    <tr>\n",
       "      <th>7026</th>\n",
       "      <td>#HolaDictadura y q es para vosotros la democracia? Q se imponga vuestra voluntad? Xq no os presentáis a unas elecciones DEMOCRÁTICASaaaaaa</td>\n",
       "      <td>N</td>\n",
       "      <td>AGREEMENT</td>\n",
       "      <td>0</td>\n",
       "      <td>0</td>\n",
       "      <td>0</td>\n",
       "    </tr>\n",
       "    <tr>\n",
       "      <th>5349</th>\n",
       "      <td>Mas concede 3M a Centre d'estudis opinió(dept.Presidencia)para hacer encuestas sobre concierto econ e independentismo  #nacionalismoescrisis</td>\n",
       "      <td>P</td>\n",
       "      <td>AGREEMENT</td>\n",
       "      <td>1</td>\n",
       "      <td>0</td>\n",
       "      <td>0</td>\n",
       "    </tr>\n",
       "    <tr>\n",
       "      <th>4551</th>\n",
       "      <td>OS DESEO FELICIDAD! buenas noches, buenas noches y buenas noches! #MiNumeroEsEl3 !</td>\n",
       "      <td>P</td>\n",
       "      <td>AGREEMENT</td>\n",
       "      <td>1</td>\n",
       "      <td>1</td>\n",
       "      <td>1</td>\n",
       "    </tr>\n",
       "    <tr>\n",
       "      <th>2932</th>\n",
       "      <td>Ya tengo los nuevos botines @PUMAFootball. Están muy buenos!! En un rato subo foto...</td>\n",
       "      <td>P+</td>\n",
       "      <td>AGREEMENT</td>\n",
       "      <td>1</td>\n",
       "      <td>1</td>\n",
       "      <td>1</td>\n",
       "    </tr>\n",
       "    <tr>\n",
       "      <th>6343</th>\n",
       "      <td>+ 1.000 MT @manuelerice: @ajmencia Enhorabuena a todos por #iRedes. Magnífico resumen de @jlori. Redes y Twitter, mas importantes #storify</td>\n",
       "      <td>P+</td>\n",
       "      <td>AGREEMENT</td>\n",
       "      <td>1</td>\n",
       "      <td>1</td>\n",
       "      <td>1</td>\n",
       "    </tr>\n",
       "    <tr>\n",
       "      <th>2844</th>\n",
       "      <td>Cospedal reitera desde el Senado \"el objetivo de déficit es irrenunciable\"</td>\n",
       "      <td>N+</td>\n",
       "      <td>AGREEMENT</td>\n",
       "      <td>0</td>\n",
       "      <td>1</td>\n",
       "      <td>0</td>\n",
       "    </tr>\n",
       "  </tbody>\n",
       "</table>\n",
       "</div>"
      ],
      "text/plain": [
       "                                                                                                                                           content  \\\n",
       "5374                                                           El despilfarro del gobierno catalán es un suma y sigue. E el @TelediarioInter 20:30   \n",
       "5896                              Confirmado: el marido de #Cospedal renuncia a ser consejero de Red Eléctrica Española, participada por el Estado   \n",
       "4247                                                               @GUTY14HAZ  gracias amigo!!!! Enhorabuena por tu futura boda te deseo lo mejor!   \n",
       "1819       Gabino de Lorenzo delegado del gobierno y Cascos presidente. No nos queda nada. El poder de la testosterona y la debilidad de Asturias.   \n",
       "7026    #HolaDictadura y q es para vosotros la democracia? Q se imponga vuestra voluntad? Xq no os presentáis a unas elecciones DEMOCRÁTICASaaaaaa   \n",
       "5349  Mas concede 3M a Centre d'estudis opinió(dept.Presidencia)para hacer encuestas sobre concierto econ e independentismo  #nacionalismoescrisis   \n",
       "4551                                                            OS DESEO FELICIDAD! buenas noches, buenas noches y buenas noches! #MiNumeroEsEl3 !   \n",
       "2932                                                         Ya tengo los nuevos botines @PUMAFootball. Están muy buenos!! En un rato subo foto...   \n",
       "6343    + 1.000 MT @manuelerice: @ajmencia Enhorabuena a todos por #iRedes. Magnífico resumen de @jlori. Redes y Twitter, mas importantes #storify   \n",
       "2844                                                                    Cospedal reitera desde el Senado \"el objetivo de déficit es irrenunciable\"   \n",
       "\n",
       "     polarity  agreement  polarity_bin  polaridad_SVM  polarity_kNN  \n",
       "5374       N+  AGREEMENT             0              0             0  \n",
       "5896        N  AGREEMENT             0              1             0  \n",
       "4247       P+  AGREEMENT             1              1             1  \n",
       "1819        N  AGREEMENT             0              0             0  \n",
       "7026        N  AGREEMENT             0              0             0  \n",
       "5349        P  AGREEMENT             1              0             0  \n",
       "4551        P  AGREEMENT             1              1             1  \n",
       "2932       P+  AGREEMENT             1              1             1  \n",
       "6343       P+  AGREEMENT             1              1             1  \n",
       "2844       N+  AGREEMENT             0              1             0  "
      ]
     },
     "execution_count": 165,
     "metadata": {},
     "output_type": "execute_result"
    }
   ],
   "source": [
    "X_test.sample(10)"
   ]
  },
  {
   "cell_type": "code",
   "execution_count": 166,
   "metadata": {},
   "outputs": [],
   "source": [
    "#SVM\n",
    "Reales = tweets_corpus.polarity_bin.value_counts(normalize=True)\n",
    "Estimados = X_test.polaridad_SVM.value_counts(normalize=True)\n",
    "\n",
    "#Buscamos el porcentaje de acierto negativos y positivos\n",
    "from collections import Counter\n",
    "import numpy as np\n",
    "\n",
    "index=np.where(X_test['polarity_bin']==0) #Buscamos indices donde la polaridad es negativa\n",
    "totales_neg = X_test['polaridad_SVM'].get_values()[index[0]] #Cargamos los elementos estimados que se suponen negativos\n",
    "Porcentaje_acierto_negativos=Counter(totales_neg)[0]/Counter(X_test['polarity_bin']==0)[1] #Calculamos % negativos\n",
    "\n",
    "index=np.where(X_test['polarity_bin']==1) #Buscamos indices donde la polaridad es positiva\n",
    "totales_pos = X_test['polaridad_SVM'].get_values()[index[0]] #Cargamos los elementos estimados que se suponen positivos\n",
    "Porcentaje_acierto_positivos=Counter(totales_pos)[1]/Counter(X_test['polarity_bin']==1)[1] #Calculamos % positivos\n"
   ]
  },
  {
   "cell_type": "code",
   "execution_count": 167,
   "metadata": {},
   "outputs": [
    {
     "data": {
      "text/plain": [
       "(0.7717492984097287, 0.6427015250544662)"
      ]
     },
     "execution_count": 167,
     "metadata": {},
     "output_type": "execute_result"
    }
   ],
   "source": [
    "Porcentaje_acierto_positivos,Porcentaje_acierto_negativos"
   ]
  },
  {
   "cell_type": "code",
   "execution_count": 168,
   "metadata": {},
   "outputs": [],
   "source": [
    "from sklearn.metrics import classification_report\n",
    "target_names = ['0', '1']\n",
    "#hamming_loss(y_test, predicted_labels_knn)\n",
    "a=classification_report(y_test, X_test.polaridad_SVM, target_names=target_names)\n",
    "\n",
    "\n",
    "from sklearn.metrics import accuracy_score\n",
    "b=accuracy_score(y_test, X_test['polaridad_SVM'])\n",
    "\n",
    "c=a.split()\n",
    "precision_negative = float(c[5])\n",
    "precision_positive = float(c[10])\n",
    "precision_avg = float(c[15])\n"
   ]
  },
  {
   "cell_type": "code",
   "execution_count": 169,
   "metadata": {},
   "outputs": [
    {
     "data": {
      "text/plain": [
       "0.71"
      ]
     },
     "execution_count": 169,
     "metadata": {},
     "output_type": "execute_result"
    }
   ],
   "source": [
    "precision_avg"
   ]
  },
  {
   "cell_type": "markdown",
   "metadata": {},
   "source": [
    "Realización de gráficas\n",
    "https://numython.github.io/posts/graficas-de-pastel-con-matplotlib/"
   ]
  },
  {
   "cell_type": "code",
   "execution_count": 170,
   "metadata": {},
   "outputs": [
    {
     "data": {
      "text/plain": [
       "Text(0.5, 1.0, 'Porcentaje estimado SVM')"
      ]
     },
     "execution_count": 170,
     "metadata": {},
     "output_type": "execute_result"
    },
    {
     "data": {
      "image/png": "[encoded data removed]",
      "text/plain": [
       "<Figure size 432x288 with 2 Axes>"
      ]
     },
     "metadata": {},
     "output_type": "display_data"
    }
   ],
   "source": [
    "#Realizaremos gráfico de tortas SVM\n",
    "import matplotlib.pyplot as plt\n",
    "import numpy as np\n",
    "\n",
    "plt.subplot(1,3,1)\n",
    "plt.ion()  # Ponemos el modo interactivo\n",
    "pol = [Reales.get_values()[0]*100,Reales.get_values()[1]*100] # Definimos un vector con el % de visitas del top ten de países\n",
    "#pol = np.append(pol, 100. - np.sum(pol)) # Introducimos un último elemento que recoge el % de visitas de otros países fuera del top ten\n",
    "percepcion = [u'Positivos', u'Negativos']  # Etiquetas para los quesitos\n",
    "explode = [0.2, 0]  # Esto nos ayudará a destacar algunos quesitos\n",
    "plt.pie(pol, labels = percepcion, autopct=\"%0.1f %%\")  # Dibuja un gráfico de quesitos\n",
    "plt.title(u'Porcentaje real')\n",
    "\n",
    "plt.subplot(1,3,3)\n",
    "plt.ion()  # Ponemos el modo interactivo\n",
    "pol = [Estimados.get_values()[0]*100,Estimados.get_values()[1]*100] # Definimos un vector con el % de visitas del top ten de países\n",
    "#pol = np.append(pol, 100. - np.sum(pol)) # Introducimos un último elemento que recoge el % de visitas de otros países fuera del top ten\n",
    "percepcion = [u'Positivos', u'Negativos']  # Etiquetas para los quesitos\n",
    "explode = [0.2, 0]  # Esto nos ayudará a destacar algunos quesitos\n",
    "plt.pie(pol, labels = percepcion, autopct=\"%0.1f %%\")  # Dibuja un gráfico de quesitos\n",
    "plt.title(u'Porcentaje estimado SVM')\n"
   ]
  },
  {
   "cell_type": "code",
   "execution_count": 171,
   "metadata": {},
   "outputs": [
    {
     "data": {
      "text/plain": [
       "Text(0.7, 40, '71.0%')"
      ]
     },
     "execution_count": 171,
     "metadata": {},
     "output_type": "execute_result"
    },
    {
     "data": {
      "image/png": "[encoded data removed]",
      "text/plain": [
       "<Figure size 432x288 with 1 Axes>"
      ]
     },
     "metadata": {
      "needs_background": "light"
     },
     "output_type": "display_data"
    }
   ],
   "source": [
    "plt.ion()  # Ponemos el modo interactivo\n",
    "pol = [precision_positive*100,precision_negative*100] # Definimos un vector con el % de visitas del top ten de países\n",
    "#pol = np.append(pol, 100. - np.sum(pol)) # Introducimos un último elemento que recoge el % de visitas de otros países fuera del top ten\n",
    "percepcion = [u'Positivos', u'Negativos']  # Etiquetas para los quesitos\n",
    "explode = [0.2, 0]  # Esto nos ayudará a destacar algunos quesitos\n",
    "plt.bar(np.arange(2),pol)  # Dibuja un gráfico de quesitos\n",
    "plt.title(u'Porcentaje de acierto para cada valor SVM')\n",
    "plt.xticks(np.arange(2), [1,0])\n",
    "plt.text(-0.28,40,str(precision_positive*100)+'%')\n",
    "plt.text(0.7,40,str(precision_negative*100)+'%')"
   ]
  },
  {
   "cell_type": "code",
   "execution_count": 172,
   "metadata": {},
   "outputs": [],
   "source": [
    "#kNN\n",
    "Reales = tweets_corpus.polarity_bin.value_counts(normalize=True)\n",
    "Estimados = X_test.polarity_kNN.value_counts(normalize=True)\n",
    "\n",
    "from sklearn.metrics import classification_report\n",
    "target_names = ['0', '1']\n",
    "#hamming_loss(y_test, predicted_labels_knn)\n",
    "a=classification_report(y_test, X_test.polarity_kNN, target_names=target_names)\n",
    "\n",
    "\n",
    "from sklearn.metrics import accuracy_score\n",
    "b=accuracy_score(y_test, X_test.polarity_kNN)\n",
    "\n",
    "c=a.split()\n",
    "precision_negative = float(c[5])\n",
    "precision_positive = float(c[10])\n",
    "precision_avg = float(c[15])\n"
   ]
  },
  {
   "cell_type": "code",
   "execution_count": null,
   "metadata": {},
   "outputs": [],
   "source": []
  },
  {
   "cell_type": "code",
   "execution_count": 173,
   "metadata": {},
   "outputs": [
    {
     "data": {
      "text/plain": [
       "Text(0.5, 1.0, 'Porcentaje estimado kNN')"
      ]
     },
     "execution_count": 173,
     "metadata": {},
     "output_type": "execute_result"
    },
    {
     "data": {
      "image/png": "[encoded data removed]",
      "text/plain": [
       "<Figure size 432x288 with 2 Axes>"
      ]
     },
     "metadata": {},
     "output_type": "display_data"
    }
   ],
   "source": [
    "#Realizaremos gráfico de tortas kNN\n",
    "import matplotlib.pyplot as plt\n",
    "import numpy as np\n",
    "\n",
    "plt.subplot(1,3,1)\n",
    "plt.ion()  # Ponemos el modo interactivo\n",
    "pol = [Reales.get_values()[0]*100,Reales.get_values()[1]*100] # Definimos un vector con el % de visitas del top ten de países\n",
    "#pol = np.append(pol, 100. - np.sum(pol)) # Introducimos un último elemento que recoge el % de visitas de otros países fuera del top ten\n",
    "percepcion = [u'Positivos', u'Negativos']  # Etiquetas para los quesitos\n",
    "explode = [0.2, 0]  # Esto nos ayudará a destacar algunos quesitos\n",
    "plt.pie(pol, labels = percepcion, autopct=\"%0.1f %%\")  # Dibuja un gráfico de quesitos\n",
    "plt.title(u'Porcentaje real')\n",
    "\n",
    "plt.subplot(1,3,3)\n",
    "plt.ion()  # Ponemos el modo interactivo\n",
    "pol = [Estimados.get_values()[0]*100,Estimados.get_values()[1]*100] # Definimos un vector con el % de visitas del top ten de países\n",
    "#pol = np.append(pol, 100. - np.sum(pol)) # Introducimos un último elemento que recoge el % de visitas de otros países fuera del top ten\n",
    "percepcion = [u'Positivos', u'Negativos']  # Etiquetas para los quesitos\n",
    "explode = [0.2, 0]  # Esto nos ayudará a destacar algunos quesitos\n",
    "plt.pie(pol, labels = percepcion, autopct=\"%0.1f %%\")  # Dibuja un gráfico de quesitos\n",
    "plt.title(u'Porcentaje estimado kNN')"
   ]
  },
  {
   "cell_type": "code",
   "execution_count": 174,
   "metadata": {},
   "outputs": [
    {
     "data": {
      "text/plain": [
       "Text(0.7, 40, '76.0%')"
      ]
     },
     "execution_count": 174,
     "metadata": {},
     "output_type": "execute_result"
    },
    {
     "data": {
      "image/png": "[encoded data removed]",
      "text/plain": [
       "<Figure size 432x288 with 1 Axes>"
      ]
     },
     "metadata": {
      "needs_background": "light"
     },
     "output_type": "display_data"
    }
   ],
   "source": [
    "plt.ion()  # Ponemos el modo interactivo\n",
    "pol = [precision_positive*100,precision_negative*100] # Definimos un vector con el % de visitas del top ten de países\n",
    "#pol = np.append(pol, 100. - np.sum(pol)) # Introducimos un último elemento que recoge el % de visitas de otros países fuera del top ten\n",
    "percepcion = [u'Positivos', u'Negativos']  # Etiquetas para los quesitos\n",
    "explode = [0.2, 0]  # Esto nos ayudará a destacar algunos quesitos\n",
    "plt.bar(np.arange(2),pol)  # Dibuja un gráfico de quesitos\n",
    "plt.title(u'Porcentaje de acierto para cada valor kNN')\n",
    "plt.xticks(np.arange(2), [1,0])\n",
    "plt.text(-0.28,40,str(precision_positive*100)+'%')\n",
    "plt.text(0.7,40,str(precision_negative*100)+'%')"
   ]
  },
  {
   "cell_type": "code",
   "execution_count": 175,
   "metadata": {},
   "outputs": [
    {
     "data": {
      "text/plain": [
       "0.76"
      ]
     },
     "execution_count": 175,
     "metadata": {},
     "output_type": "execute_result"
    }
   ],
   "source": [
    "precision_avg"
   ]
  },
  {
   "cell_type": "code",
   "execution_count": null,
   "metadata": {},
   "outputs": [],
   "source": []
  }
 ],
 "metadata": {
  "kernelspec": {
   "display_name": "Python3.6(conda)",
   "language": "python",
   "name": "python36"
  },
  "language_info": {
   "codemirror_mode": {
    "name": "ipython",
    "version": 3
   },
   "file_extension": ".py",
   "mimetype": "text/x-python",
   "name": "python",
   "nbconvert_exporter": "python",
   "pygments_lexer": "ipython3",
   "version": "3.6.8"
  }
 },
 "nbformat": 4,
 "nbformat_minor": 2
}
