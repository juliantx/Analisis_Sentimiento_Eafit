{
 "cells": [
  {
   "cell_type": "code",
   "execution_count": 2,
   "metadata": {},
   "outputs": [
    {
     "data": {
      "text/html": [
       "<div>\n",
       "<style scoped>\n",
       "    .dataframe tbody tr th:only-of-type {\n",
       "        vertical-align: middle;\n",
       "    }\n",
       "\n",
       "    .dataframe tbody tr th {\n",
       "        vertical-align: top;\n",
       "    }\n",
       "\n",
       "    .dataframe thead th {\n",
       "        text-align: right;\n",
       "    }\n",
       "</style>\n",
       "<table border=\"1\" class=\"dataframe\">\n",
       "  <thead>\n",
       "    <tr style=\"text-align: right;\">\n",
       "      <th></th>\n",
       "      <th>content</th>\n",
       "      <th>polarity</th>\n",
       "    </tr>\n",
       "  </thead>\n",
       "  <tbody>\n",
       "    <tr>\n",
       "      <th>5805</th>\n",
       "      <td>\"Yo no soy la opinión pública ni la opinión pu...</td>\n",
       "      <td>P+</td>\n",
       "    </tr>\n",
       "    <tr>\n",
       "      <th>2778</th>\n",
       "      <td>Esta tarde solidaridad y apoyo para el futuro ...</td>\n",
       "      <td>P+</td>\n",
       "    </tr>\n",
       "    <tr>\n",
       "      <th>6177</th>\n",
       "      <td>Y este domingo abandono la veintena... 30 Taco...</td>\n",
       "      <td>P</td>\n",
       "    </tr>\n",
       "    <tr>\n",
       "      <th>1451</th>\n",
       "      <td>Que jefe es  Ramos .</td>\n",
       "      <td>P</td>\n",
       "    </tr>\n",
       "    <tr>\n",
       "      <th>4168</th>\n",
       "      <td>A las 17.45 viene al estudio de #JELO  Alicia ...</td>\n",
       "      <td>P+</td>\n",
       "    </tr>\n",
       "  </tbody>\n",
       "</table>\n",
       "</div>"
      ],
      "text/plain": [
       "                                                content polarity\n",
       "5805  \"Yo no soy la opinión pública ni la opinión pu...       P+\n",
       "2778  Esta tarde solidaridad y apoyo para el futuro ...       P+\n",
       "6177  Y este domingo abandono la veintena... 30 Taco...        P\n",
       "1451                               Que jefe es  Ramos .        P\n",
       "4168  A las 17.45 viene al estudio de #JELO  Alicia ...       P+"
      ]
     },
     "execution_count": 2,
     "metadata": {},
     "output_type": "execute_result"
    }
   ],
   "source": [
    "import pandas as pd\n",
    "\n",
    "general_tweets_corpus_train = pd.read_csv('general-tweets-train-tagged.csv', encoding='utf-8')\n",
    "social_tweets_corpus_train = pd.read_csv('socialtv-tweets-train-tagged.csv', encoding='utf-8')\n",
    "stompol_tweets_train_tagged = pd.read_csv('stompol-tweets-train-tagged.csv', encoding='utf-8')\n",
    "tweets_corpus = pd.concat([\n",
    "        general_tweets_corpus_train,\n",
    "        social_tweets_corpus_train,\n",
    "        stompol_tweets_train_tagged,\n",
    "        #tweet_testeo,\n",
    "    ])\n",
    "tweets_corpus = tweets_corpus.drop('agreement',axis=1) #Eliminar columna agreement\n",
    "tweets_corpus.sample(5)"
   ]
  },
  {
   "cell_type": "code",
   "execution_count": 3,
   "metadata": {},
   "outputs": [],
   "source": [
    "tweets_corpus['content'] = tweets_corpus.content.fillna(' ') #Eliminar valores nan de la columna tweet\n",
    "tweets_corpus = tweets_corpus[-tweets_corpus.content.str.contains('http://')]\n",
    "tweets_corpus = tweets_corpus[-tweets_corpus.polarity.str.contains('NONE')]"
   ]
  },
  {
   "cell_type": "code",
   "execution_count": 4,
   "metadata": {},
   "outputs": [],
   "source": [
    "#Funcion Limpieza de mensajes\n",
    "\n",
    "######Limpieza General############\n",
    "import re\n",
    "from unicodedata import normalize\n",
    "\n",
    "# -> NFD y eliminar diacríticos\n",
    "#x = tweets_corpus.content.get_values()\n",
    "#longitud=len(tweets_corpus.content.get_values())\n",
    "\n",
    "\n",
    "def limpieza(x):\n",
    "    for i in range(0,len(x)):\n",
    "        x[i] = str(x[i])\n",
    "        x[i]= re.sub(\n",
    "                r\"([^n\\u0300-\\u036f]|n(?!\\u0303(?![\\u0300-\\u036f])))[\\u0300-\\u036f]+\", r\"\\1\", \n",
    "                normalize( \"NFD\",x[i]), 0, re.I\n",
    "            )\n",
    "        x[i]=re.sub('(f|ht)tp(s?)://(.*)[.][a-z]+',' ',x[i])\n",
    "        x[i]=re.sub('(f|ht)tp(s?)://(.*)[.][a-z]+',' ',x[i])\n",
    "        x[i]=re.sub('[a-zA-Z0-9.?{}]+@\\w+\\.\\w+.\\w*','',x[i])\n",
    "        x[i]=re.sub('\\[[a-zA-Z0-9\\,\\. ]+\\]','',x[i]) \n",
    "        x[i]=re.sub('\\([a-zA-Z0-9\\,\\.\\- ]+\\)',' ',x[i])\n",
    "        x[i]=re.sub('((et al\\.)|(i\\.i\\.d\\.)|(i\\.e\\.)|\\-|\\'|\\’|\\`)','',x[i])\n",
    "        x[i]=re.sub('[^a-zA-Z_á\\éíóúà\\èìòùäëïöü\\s]','',x[i])    \n",
    "        x[i]=re.sub(' +',' ',x[i])    \n",
    "        x[i]=re.sub('(a-z|A-Z){1,1}','',x[i].lower()) #Convertir a minuscula y quitar caracteres\n",
    "    return x\n"
   ]
  },
  {
   "cell_type": "code",
   "execution_count": 5,
   "metadata": {},
   "outputs": [
    {
     "data": {
      "text/html": [
       "<div>\n",
       "<style scoped>\n",
       "    .dataframe tbody tr th:only-of-type {\n",
       "        vertical-align: middle;\n",
       "    }\n",
       "\n",
       "    .dataframe tbody tr th {\n",
       "        vertical-align: top;\n",
       "    }\n",
       "\n",
       "    .dataframe thead th {\n",
       "        text-align: right;\n",
       "    }\n",
       "</style>\n",
       "<table border=\"1\" class=\"dataframe\">\n",
       "  <thead>\n",
       "    <tr style=\"text-align: right;\">\n",
       "      <th></th>\n",
       "      <th>content</th>\n",
       "      <th>polarity</th>\n",
       "    </tr>\n",
       "  </thead>\n",
       "  <tbody>\n",
       "    <tr>\n",
       "      <th>1</th>\n",
       "      <td>pauladelasheras no te libraras de ayudar menos...</td>\n",
       "      <td>NEU</td>\n",
       "    </tr>\n",
       "    <tr>\n",
       "      <th>2</th>\n",
       "      <td>marodriguezb gracias mar</td>\n",
       "      <td>P</td>\n",
       "    </tr>\n",
       "    <tr>\n",
       "      <th>3</th>\n",
       "      <td>off pensando en el regalito sinde la que se va...</td>\n",
       "      <td>N+</td>\n",
       "    </tr>\n",
       "    <tr>\n",
       "      <th>4</th>\n",
       "      <td>conozco a alguien q es adicto al drama ja ja j...</td>\n",
       "      <td>P+</td>\n",
       "    </tr>\n",
       "    <tr>\n",
       "      <th>6</th>\n",
       "      <td>toca crackoviadetv grabacion dl especial navid...</td>\n",
       "      <td>P+</td>\n",
       "    </tr>\n",
       "  </tbody>\n",
       "</table>\n",
       "</div>"
      ],
      "text/plain": [
       "                                             content polarity\n",
       "1  pauladelasheras no te libraras de ayudar menos...      NEU\n",
       "2                           marodriguezb gracias mar        P\n",
       "3  off pensando en el regalito sinde la que se va...       N+\n",
       "4  conozco a alguien q es adicto al drama ja ja j...       P+\n",
       "6  toca crackoviadetv grabacion dl especial navid...       P+"
      ]
     },
     "execution_count": 5,
     "metadata": {},
     "output_type": "execute_result"
    }
   ],
   "source": [
    "tweets_corpus.content=limpieza(tweets_corpus.content.get_values())\n",
    "tweets_corpus.head(5)"
   ]
  },
  {
   "cell_type": "code",
   "execution_count": 6,
   "metadata": {},
   "outputs": [],
   "source": [
    "#Tokenizado y stemmer\n",
    "from nltk.stem import SnowballStemmer\n",
    "stemmer = SnowballStemmer('spanish')    \n",
    "\n",
    "def tokenizar(x):\n",
    "    for i in range(0,len(x)): \n",
    "        #Tokenizar\n",
    "        x[i] = x[i].split(' ')    \n",
    "    return x\n",
    "\n",
    "def stemming (x):\n",
    "    for i in range(0,len(x)):   \n",
    "        #Stemm\n",
    "        x[i]=[stemmer.stem(elemento) for elemento in x[i]] \n",
    "    return x\n",
    "\n",
    "def reconstruir_texto (x):\n",
    "    for i in range(0,len(x)):   \n",
    "        #Recuperacion de texto con ajustes\n",
    "        x[i] = ' '.join(x[i])\n",
    "    return x\n",
    "\n",
    "        "
   ]
  },
  {
   "cell_type": "code",
   "execution_count": 7,
   "metadata": {},
   "outputs": [
    {
     "data": {
      "text/html": [
       "<div>\n",
       "<style scoped>\n",
       "    .dataframe tbody tr th:only-of-type {\n",
       "        vertical-align: middle;\n",
       "    }\n",
       "\n",
       "    .dataframe tbody tr th {\n",
       "        vertical-align: top;\n",
       "    }\n",
       "\n",
       "    .dataframe thead th {\n",
       "        text-align: right;\n",
       "    }\n",
       "</style>\n",
       "<table border=\"1\" class=\"dataframe\">\n",
       "  <thead>\n",
       "    <tr style=\"text-align: right;\">\n",
       "      <th></th>\n",
       "      <th>content</th>\n",
       "      <th>polarity</th>\n",
       "    </tr>\n",
       "  </thead>\n",
       "  <tbody>\n",
       "    <tr>\n",
       "      <th>1</th>\n",
       "      <td>pauladelasher no te libr de ayud men bes y graci</td>\n",
       "      <td>NEU</td>\n",
       "    </tr>\n",
       "    <tr>\n",
       "      <th>2</th>\n",
       "      <td>marodriguezb graci mar</td>\n",
       "      <td>P</td>\n",
       "    </tr>\n",
       "    <tr>\n",
       "      <th>3</th>\n",
       "      <td>off pens en el regalit sind la que se va de la...</td>\n",
       "      <td>N+</td>\n",
       "    </tr>\n",
       "    <tr>\n",
       "      <th>4</th>\n",
       "      <td>conozc a algui q es adict al dram ja ja ja te ...</td>\n",
       "      <td>P+</td>\n",
       "    </tr>\n",
       "    <tr>\n",
       "      <th>6</th>\n",
       "      <td>toc crackoviadetv grabacion dl especial navide...</td>\n",
       "      <td>P+</td>\n",
       "    </tr>\n",
       "  </tbody>\n",
       "</table>\n",
       "</div>"
      ],
      "text/plain": [
       "                                             content polarity\n",
       "1   pauladelasher no te libr de ayud men bes y graci      NEU\n",
       "2                             marodriguezb graci mar        P\n",
       "3  off pens en el regalit sind la que se va de la...       N+\n",
       "4  conozc a algui q es adict al dram ja ja ja te ...       P+\n",
       "6  toc crackoviadetv grabacion dl especial navide...       P+"
      ]
     },
     "execution_count": 7,
     "metadata": {},
     "output_type": "execute_result"
    }
   ],
   "source": [
    "tokenizado = tokenizar(tweets_corpus.content.get_values())\n",
    "stemmizado = stemming(tokenizado)\n",
    "tweets_corpus.content = reconstruir_texto(stemmizado)\n",
    "tweets_corpus.head(5)"
   ]
  },
  {
   "cell_type": "code",
   "execution_count": 8,
   "metadata": {},
   "outputs": [
    {
     "name": "stderr",
     "output_type": "stream",
     "text": [
      "/opt/anaconda3/lib/python3.6/site-packages/ipykernel_launcher.py:4: SettingWithCopyWarning: \n",
      "A value is trying to be set on a copy of a slice from a DataFrame\n",
      "\n",
      "See the caveats in the documentation: http://pandas.pydata.org/pandas-docs/stable/indexing.html#indexing-view-versus-copy\n",
      "  after removing the cwd from sys.path.\n"
     ]
    },
    {
     "data": {
      "text/html": [
       "<div>\n",
       "<style scoped>\n",
       "    .dataframe tbody tr th:only-of-type {\n",
       "        vertical-align: middle;\n",
       "    }\n",
       "\n",
       "    .dataframe tbody tr th {\n",
       "        vertical-align: top;\n",
       "    }\n",
       "\n",
       "    .dataframe thead th {\n",
       "        text-align: right;\n",
       "    }\n",
       "</style>\n",
       "<table border=\"1\" class=\"dataframe\">\n",
       "  <thead>\n",
       "    <tr style=\"text-align: right;\">\n",
       "      <th></th>\n",
       "      <th>content</th>\n",
       "      <th>polarity</th>\n",
       "      <th>polarity_bin</th>\n",
       "    </tr>\n",
       "  </thead>\n",
       "  <tbody>\n",
       "    <tr>\n",
       "      <th>2</th>\n",
       "      <td>marodriguezb graci mar</td>\n",
       "      <td>P</td>\n",
       "      <td>1</td>\n",
       "    </tr>\n",
       "    <tr>\n",
       "      <th>3</th>\n",
       "      <td>off pens en el regalit sind la que se va de la...</td>\n",
       "      <td>N+</td>\n",
       "      <td>0</td>\n",
       "    </tr>\n",
       "    <tr>\n",
       "      <th>4</th>\n",
       "      <td>conozc a algui q es adict al dram ja ja ja te ...</td>\n",
       "      <td>P+</td>\n",
       "      <td>1</td>\n",
       "    </tr>\n",
       "    <tr>\n",
       "      <th>6</th>\n",
       "      <td>toc crackoviadetv grabacion dl especial navide...</td>\n",
       "      <td>P+</td>\n",
       "      <td>1</td>\n",
       "    </tr>\n",
       "    <tr>\n",
       "      <th>8</th>\n",
       "      <td>buen dia tod lo primer mand un abraz grand a m...</td>\n",
       "      <td>P+</td>\n",
       "      <td>1</td>\n",
       "    </tr>\n",
       "  </tbody>\n",
       "</table>\n",
       "</div>"
      ],
      "text/plain": [
       "                                             content polarity  polarity_bin\n",
       "2                             marodriguezb graci mar        P             1\n",
       "3  off pens en el regalit sind la que se va de la...       N+             0\n",
       "4  conozc a algui q es adict al dram ja ja ja te ...       P+             1\n",
       "6  toc crackoviadetv grabacion dl especial navide...       P+             1\n",
       "8  buen dia tod lo primer mand un abraz grand a m...       P+             1"
      ]
     },
     "execution_count": 8,
     "metadata": {},
     "output_type": "execute_result"
    }
   ],
   "source": [
    "#Asginando clases binarias\n",
    "tweets_corpus = tweets_corpus[tweets_corpus.polarity != 'NEU']\n",
    "tweets_corpus['polarity_bin'] = 0\n",
    "tweets_corpus.polarity_bin[tweets_corpus.polarity.isin(['P', 'P+'])] = 1\n",
    "tweets_corpus.polarity_bin.value_counts(normalize=True)\n",
    "tweets_corpus.head(5)"
   ]
  },
  {
   "cell_type": "code",
   "execution_count": 9,
   "metadata": {},
   "outputs": [],
   "source": [
    "#Validacion cruzada\n",
    "from sklearn.model_selection import train_test_split\n",
    "X_train, X_test, y_train, y_test = train_test_split(tweets_corpus, tweets_corpus.polarity_bin, test_size=0.01, random_state=0)"
   ]
  },
  {
   "cell_type": "code",
   "execution_count": 10,
   "metadata": {},
   "outputs": [
    {
     "name": "stdout",
     "output_type": "stream",
     "text": [
      "Training time: 2.475936s; Prediction time: 0.018984s\n",
      "positive:  {'precision': 0.7241379310344828, 'recall': 0.8076923076923077, 'f1-score': 0.7636363636363636, 'support': 26}\n",
      "negative:  {'precision': 0.782608695652174, 'recall': 0.6923076923076923, 'f1-score': 0.7346938775510203, 'support': 26}\n"
     ]
    }
   ],
   "source": [
    "##Máquinas de soporte vectorial\n",
    "import time\n",
    "from sklearn import svm\n",
    "from sklearn.metrics import classification_report\n",
    "from sklearn.feature_extraction.text import TfidfVectorizer\n",
    "from nltk.corpus import stopwords\n",
    "spanish_stopwords = stopwords.words('spanish')\n",
    "from sklearn.externals import joblib\n",
    "\n",
    "\n",
    "vectorizer = TfidfVectorizer(stop_words=spanish_stopwords)\n",
    "\n",
    "\n",
    "train_vectors = vectorizer.fit_transform(X_train['content'])\n",
    "# Guardar vectorizado\n",
    "joblib.dump(vectorizer, 'vectorizado_binario.pkl')\n",
    "#train_vectors = vectorizer.fit_transform(tweets_corpus['content']) #Entrenar con todos los datos\n",
    "test_vectors = vectorizer.transform(X_test['content'])\n",
    "\n",
    "# Perform classification with SVM, kernel=linear\n",
    "classifier_SVM = svm.SVC(kernel='rbf', gamma =0.18,decision_function_shape='ovr',C=1.8)\n",
    "t0 = time.time()\n",
    "classifier_SVM.fit(train_vectors, y_train)\n",
    "t1 = time.time()\n",
    "prediction_linear = classifier_SVM.predict(test_vectors)\n",
    "t2 = time.time()\n",
    "time_linear_train = t1-t0\n",
    "time_linear_predict = t2-t1\n",
    "# results\n",
    "report = classification_report(y_test, prediction_linear, output_dict=True)\n",
    "print(\"Training time: %fs; Prediction time: %fs\" % (time_linear_train, time_linear_predict))\n",
    "print('positive: ', report['1'])\n",
    "print('negative: ', report['0'])"
   ]
  },
  {
   "cell_type": "code",
   "execution_count": null,
   "metadata": {},
   "outputs": [],
   "source": []
  },
  {
   "cell_type": "code",
   "execution_count": 11,
   "metadata": {},
   "outputs": [
    {
     "data": {
      "text/plain": [
       "['SVM_entrenado_sentimientos_binario.pkl']"
      ]
     },
     "execution_count": 11,
     "metadata": {},
     "output_type": "execute_result"
    }
   ],
   "source": [
    "##Guardar modelo entrenado\n",
    "from sklearn.externals import joblib\n",
    "# Output a pickle file for the model\n",
    "joblib.dump(classifier_SVM, 'SVM_entrenado_sentimientos_binario.pkl') "
   ]
  },
  {
   "cell_type": "code",
   "execution_count": 12,
   "metadata": {},
   "outputs": [],
   "source": [
    "## Cargar SVM entrenado\n",
    "from sklearn.externals import joblib\n",
    "clf_load = joblib.load('SVM_entrenado_sentimientos_binario.pkl') "
   ]
  },
  {
   "cell_type": "code",
   "execution_count": 13,
   "metadata": {},
   "outputs": [
    {
     "name": "stdout",
     "output_type": "stream",
     "text": [
      "Training time: 2.619898s; Prediction time: 0.018533s\n",
      "positive:  {'precision': 0.7241379310344828, 'recall': 0.8076923076923077, 'f1-score': 0.7636363636363636, 'support': 26}\n",
      "negative:  {'precision': 0.782608695652174, 'recall': 0.6923076923076923, 'f1-score': 0.7346938775510203, 'support': 26}\n"
     ]
    }
   ],
   "source": [
    "##Probar clasificador cargado\n",
    "t0 = time.time()\n",
    "clf_load.fit(train_vectors, y_train)\n",
    "t1 = time.time()\n",
    "prediction_linear = clf_load.predict(test_vectors)\n",
    "t2 = time.time()\n",
    "time_linear_train = t1-t0\n",
    "time_linear_predict = t2-t1\n",
    "# results\n",
    "report = classification_report(y_test, prediction_linear, output_dict=True)\n",
    "print(\"Training time: %fs; Prediction time: %fs\" % (time_linear_train, time_linear_predict))\n",
    "print('positive: ', report['1'])\n",
    "print('negative: ', report['0'])"
   ]
  },
  {
   "cell_type": "code",
   "execution_count": 14,
   "metadata": {},
   "outputs": [
    {
     "name": "stdout",
     "output_type": "stream",
     "text": [
      "positive:  {'precision': 0.6923076923076923, 'recall': 0.6923076923076923, 'f1-score': 0.6923076923076923, 'support': 26}\n",
      "negative:  {'precision': 0.6923076923076923, 'recall': 0.6923076923076923, 'f1-score': 0.6923076923076923, 'support': 26}\n"
     ]
    }
   ],
   "source": [
    "###############KNN#############\n",
    "from sklearn.neighbors import KNeighborsClassifier\n",
    "\n",
    "#vectorizer = TfidfVectorizer(stop_words=spanish_stopwords)\n",
    "#X = vectorizer.fit_transform(tweets_corpus.content)\n",
    "X = train_vectors\n",
    "#y_train=test_vectors\n",
    "# Clustering the document with KNN classifier\n",
    "modelknn = KNeighborsClassifier(n_neighbors=8)\n",
    "modelknn.fit(X,y_train)\n",
    "\n",
    "\n",
    "#Cargar textos para el analisis vector Test\n",
    "\n",
    "#tweets_test_kNN['tweet'] = tweets_test_kNN['tweet'].fillna(' ')\n",
    "Test = test_vectors\n",
    "predicted_labels_knn = modelknn.predict(Test)\n",
    "\n",
    "#tweets_test_kNN['polarity'] = predicted_labels_knn\n",
    "\n",
    "# results\n",
    "report = classification_report(y_test, predicted_labels_knn, output_dict=True)\n",
    "print('positive: ', report['1'])\n",
    "print('negative: ', report['0'])"
   ]
  },
  {
   "cell_type": "code",
   "execution_count": 15,
   "metadata": {},
   "outputs": [
    {
     "data": {
      "text/plain": [
       "['KNN_entrenado_sentimientos_binario.pkl']"
      ]
     },
     "execution_count": 15,
     "metadata": {},
     "output_type": "execute_result"
    }
   ],
   "source": [
    "##Guardar modelo entrenado\n",
    "from sklearn.externals import joblib\n",
    "# Output a pickle file for the model\n",
    "joblib.dump(modelknn, 'KNN_entrenado_sentimientos_binario.pkl') \n"
   ]
  },
  {
   "cell_type": "code",
   "execution_count": null,
   "metadata": {},
   "outputs": [],
   "source": []
  }
 ],
 "metadata": {
  "kernelspec": {
   "display_name": "Python3.6(conda)",
   "language": "python",
   "name": "python36"
  },
  "language_info": {
   "codemirror_mode": {
    "name": "ipython",
    "version": 3
   },
   "file_extension": ".py",
   "mimetype": "text/x-python",
   "name": "python",
   "nbconvert_exporter": "python",
   "pygments_lexer": "ipython3",
   "version": "3.6.8"
  }
 },
 "nbformat": 4,
 "nbformat_minor": 2
}
