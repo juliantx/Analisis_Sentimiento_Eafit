{
 "cells": [
  {
   "cell_type": "markdown",
   "metadata": {},
   "source": [
    "# Este código nos permitirá realizar análisis de sentimiento sobre una base de datos de tweets recogidos en la localidad de Murcia España\n",
    "https://www.pybonacci.org/2015/11/24/como-hacer-analisis-de-sentimiento-en-espanol-2/"
   ]
  },
  {
   "cell_type": "code",
   "execution_count": 35,
   "metadata": {
    "scrolled": true
   },
   "outputs": [],
   "source": [
    "import pandas as pd\n",
    "pd.set_option('max_colwidth',1000)"
   ]
  },
  {
   "cell_type": "markdown",
   "metadata": {},
   "source": [
    "Cargamos la base de datos de TASS, con tweets catálogados que nos permitirá hacer el entrenamiento de algoritmos de machine learning, estos tienen una polaridad asignada para cada tweet."
   ]
  },
  {
   "cell_type": "code",
   "execution_count": 36,
   "metadata": {},
   "outputs": [],
   "source": [
    "general_tweets_corpus_train = pd.read_csv('general-tweets-train-tagged.csv', encoding='utf-8')\n",
    "social_tweets_corpus_train = pd.read_csv('socialtv-tweets-train-tagged.csv', encoding='utf-8')\n",
    "stompol_tweets_train_tagged = pd.read_csv('stompol-tweets-train-tagged.csv', encoding='utf-8')\n",
    "#tweet_testeo = pd.read_csv('tweet_test.csv', encoding='utf-8')"
   ]
  },
  {
   "cell_type": "code",
   "execution_count": 37,
   "metadata": {},
   "outputs": [
    {
     "data": {
      "text/html": [
       "<div>\n",
       "<style scoped>\n",
       "    .dataframe tbody tr th:only-of-type {\n",
       "        vertical-align: middle;\n",
       "    }\n",
       "\n",
       "    .dataframe tbody tr th {\n",
       "        vertical-align: top;\n",
       "    }\n",
       "\n",
       "    .dataframe thead th {\n",
       "        text-align: right;\n",
       "    }\n",
       "</style>\n",
       "<table border=\"1\" class=\"dataframe\">\n",
       "  <thead>\n",
       "    <tr style=\"text-align: right;\">\n",
       "      <th></th>\n",
       "      <th>content</th>\n",
       "      <th>polarity</th>\n",
       "      <th>agreement</th>\n",
       "    </tr>\n",
       "  </thead>\n",
       "  <tbody>\n",
       "    <tr>\n",
       "      <th>0</th>\n",
       "      <td>Salgo de #VeoTV , que día más largoooooo...</td>\n",
       "      <td>NONE</td>\n",
       "      <td>AGREEMENT</td>\n",
       "    </tr>\n",
       "    <tr>\n",
       "      <th>1</th>\n",
       "      <td>@PauladeLasHeras No te libraras de ayudar me/nos. Besos y gracias</td>\n",
       "      <td>NEU</td>\n",
       "      <td>DISAGREEMENT</td>\n",
       "    </tr>\n",
       "    <tr>\n",
       "      <th>2</th>\n",
       "      <td>@marodriguezb Gracias MAR</td>\n",
       "      <td>P</td>\n",
       "      <td>AGREEMENT</td>\n",
       "    </tr>\n",
       "    <tr>\n",
       "      <th>3</th>\n",
       "      <td>Off pensando en el regalito Sinde, la que se va de la SGAE cuando se van sus corruptos. Intento no sacar conclusiones (lo intento)</td>\n",
       "      <td>N+</td>\n",
       "      <td>AGREEMENT</td>\n",
       "    </tr>\n",
       "    <tr>\n",
       "      <th>4</th>\n",
       "      <td>Conozco a alguien q es adicto al drama! Ja ja ja te suena d algo!</td>\n",
       "      <td>P+</td>\n",
       "      <td>AGREEMENT</td>\n",
       "    </tr>\n",
       "  </tbody>\n",
       "</table>\n",
       "</div>"
      ],
      "text/plain": [
       "                                                                                                                              content  \\\n",
       "0                                                                                         Salgo de #VeoTV , que día más largoooooo...   \n",
       "1                                                                   @PauladeLasHeras No te libraras de ayudar me/nos. Besos y gracias   \n",
       "2                                                                                                           @marodriguezb Gracias MAR   \n",
       "3  Off pensando en el regalito Sinde, la que se va de la SGAE cuando se van sus corruptos. Intento no sacar conclusiones (lo intento)   \n",
       "4                                                                   Conozco a alguien q es adicto al drama! Ja ja ja te suena d algo!   \n",
       "\n",
       "  polarity     agreement  \n",
       "0     NONE     AGREEMENT  \n",
       "1      NEU  DISAGREEMENT  \n",
       "2        P     AGREEMENT  \n",
       "3       N+     AGREEMENT  \n",
       "4       P+     AGREEMENT  "
      ]
     },
     "execution_count": 37,
     "metadata": {},
     "output_type": "execute_result"
    }
   ],
   "source": [
    "general_tweets_corpus_train.head()"
   ]
  },
  {
   "cell_type": "code",
   "execution_count": 38,
   "metadata": {},
   "outputs": [
    {
     "data": {
      "text/html": [
       "<div>\n",
       "<style scoped>\n",
       "    .dataframe tbody tr th:only-of-type {\n",
       "        vertical-align: middle;\n",
       "    }\n",
       "\n",
       "    .dataframe tbody tr th {\n",
       "        vertical-align: top;\n",
       "    }\n",
       "\n",
       "    .dataframe thead th {\n",
       "        text-align: right;\n",
       "    }\n",
       "</style>\n",
       "<table border=\"1\" class=\"dataframe\">\n",
       "  <thead>\n",
       "    <tr style=\"text-align: right;\">\n",
       "      <th></th>\n",
       "      <th>content</th>\n",
       "      <th>polarity</th>\n",
       "      <th>agreement</th>\n",
       "    </tr>\n",
       "  </thead>\n",
       "  <tbody>\n",
       "    <tr>\n",
       "      <th>0</th>\n",
       "      <td>Los que esta noche van a la redonda a celebrar la victoria  del  Real Madrid  les espero para cuando suba el  @realmurciacfsad  a primera.</td>\n",
       "      <td>P</td>\n",
       "      <td></td>\n",
       "    </tr>\n",
       "    <tr>\n",
       "      <th>1</th>\n",
       "      <td>Diooooos que careron de  gareth  madreeeeee ahí están los jugadores importantes decidiendo  partidos  vamos coñoooooooo jajaja hala  madrid</td>\n",
       "      <td>P</td>\n",
       "      <td></td>\n",
       "    </tr>\n",
       "    <tr>\n",
       "      <th>2</th>\n",
       "      <td>Ganó el mejor.  @realmadrid    #CopaRelRey    #FinalCopaRelRey</td>\n",
       "      <td>P</td>\n",
       "      <td></td>\n",
       "    </tr>\n",
       "    <tr>\n",
       "      <th>3</th>\n",
       "      <td>@realmadrid  Felicidades!!! ? Gracias por alegrarme la tarde!!! ??? *Aplausos* #Feliz</td>\n",
       "      <td>P</td>\n",
       "      <td></td>\n",
       "    </tr>\n",
       "    <tr>\n",
       "      <th>4</th>\n",
       "      <td>@titelas Mañana  Bale  en naranja</td>\n",
       "      <td>NEU</td>\n",
       "      <td></td>\n",
       "    </tr>\n",
       "  </tbody>\n",
       "</table>\n",
       "</div>"
      ],
      "text/plain": [
       "                                                                                                                                       content  \\\n",
       "0   Los que esta noche van a la redonda a celebrar la victoria  del  Real Madrid  les espero para cuando suba el  @realmurciacfsad  a primera.   \n",
       "1  Diooooos que careron de  gareth  madreeeeee ahí están los jugadores importantes decidiendo  partidos  vamos coñoooooooo jajaja hala  madrid   \n",
       "2                                                                               Ganó el mejor.  @realmadrid    #CopaRelRey    #FinalCopaRelRey   \n",
       "3                                                        @realmadrid  Felicidades!!! ? Gracias por alegrarme la tarde!!! ??? *Aplausos* #Feliz   \n",
       "4                                                                                                            @titelas Mañana  Bale  en naranja   \n",
       "\n",
       "  polarity agreement  \n",
       "0        P            \n",
       "1        P            \n",
       "2        P            \n",
       "3        P            \n",
       "4      NEU            "
      ]
     },
     "execution_count": 38,
     "metadata": {},
     "output_type": "execute_result"
    }
   ],
   "source": [
    "social_tweets_corpus_train.head()"
   ]
  },
  {
   "cell_type": "code",
   "execution_count": 39,
   "metadata": {},
   "outputs": [
    {
     "data": {
      "text/html": [
       "<div>\n",
       "<style scoped>\n",
       "    .dataframe tbody tr th:only-of-type {\n",
       "        vertical-align: middle;\n",
       "    }\n",
       "\n",
       "    .dataframe tbody tr th {\n",
       "        vertical-align: top;\n",
       "    }\n",
       "\n",
       "    .dataframe thead th {\n",
       "        text-align: right;\n",
       "    }\n",
       "</style>\n",
       "<table border=\"1\" class=\"dataframe\">\n",
       "  <thead>\n",
       "    <tr style=\"text-align: right;\">\n",
       "      <th></th>\n",
       "      <th>content</th>\n",
       "      <th>polarity</th>\n",
       "      <th>agreement</th>\n",
       "    </tr>\n",
       "  </thead>\n",
       "  <tbody>\n",
       "    <tr>\n",
       "      <th>0</th>\n",
       "      <td>Diga cuanto nos van a costar las  autovías  de sus amiguetes ¿4500 millones o más ?  @EsperanzAguirre @PPopular</td>\n",
       "      <td>N</td>\n",
       "      <td></td>\n",
       "    </tr>\n",
       "    <tr>\n",
       "      <th>1</th>\n",
       "      <td>@lhermoso_ @sanchezcastejon  #DobleMoral  Castilla antes que Aragón...</td>\n",
       "      <td>N</td>\n",
       "      <td></td>\n",
       "    </tr>\n",
       "    <tr>\n",
       "      <th>2</th>\n",
       "      <td>@PSOE  @sanchezcastejon Me hace mucha gracia que esa afirmación la haga el PSOE</td>\n",
       "      <td>N</td>\n",
       "      <td></td>\n",
       "    </tr>\n",
       "    <tr>\n",
       "      <th>3</th>\n",
       "      <td>Para que todo el mundo lo tengo claro ....  @CsAlzira_   https://t.co/kcDxbhu3Ha</td>\n",
       "      <td>NEU</td>\n",
       "      <td></td>\n",
       "    </tr>\n",
       "    <tr>\n",
       "      <th>4</th>\n",
       "      <td>@Albert_Rivera  y  @CiudadanosCs  saben q este país es progresista pero q se arruga y vota centro. Discurso moderado y electoralista.</td>\n",
       "      <td>N</td>\n",
       "      <td></td>\n",
       "    </tr>\n",
       "  </tbody>\n",
       "</table>\n",
       "</div>"
      ],
      "text/plain": [
       "                                                                                                                                 content  \\\n",
       "0                        Diga cuanto nos van a costar las  autovías  de sus amiguetes ¿4500 millones o más ?  @EsperanzAguirre @PPopular   \n",
       "1                                                                 @lhermoso_ @sanchezcastejon  #DobleMoral  Castilla antes que Aragón...   \n",
       "2                                                        @PSOE  @sanchezcastejon Me hace mucha gracia que esa afirmación la haga el PSOE   \n",
       "3                                                       Para que todo el mundo lo tengo claro ....  @CsAlzira_   https://t.co/kcDxbhu3Ha   \n",
       "4  @Albert_Rivera  y  @CiudadanosCs  saben q este país es progresista pero q se arruga y vota centro. Discurso moderado y electoralista.   \n",
       "\n",
       "  polarity agreement  \n",
       "0        N            \n",
       "1        N            \n",
       "2        N            \n",
       "3      NEU            \n",
       "4        N            "
      ]
     },
     "execution_count": 39,
     "metadata": {},
     "output_type": "execute_result"
    }
   ],
   "source": [
    "stompol_tweets_train_tagged.head()"
   ]
  },
  {
   "cell_type": "markdown",
   "metadata": {},
   "source": [
    "Concatenamos los Tweets cargados anteriormente en un solo Corpus"
   ]
  },
  {
   "cell_type": "code",
   "execution_count": 40,
   "metadata": {},
   "outputs": [
    {
     "data": {
      "text/html": [
       "<div>\n",
       "<style scoped>\n",
       "    .dataframe tbody tr th:only-of-type {\n",
       "        vertical-align: middle;\n",
       "    }\n",
       "\n",
       "    .dataframe tbody tr th {\n",
       "        vertical-align: top;\n",
       "    }\n",
       "\n",
       "    .dataframe thead th {\n",
       "        text-align: right;\n",
       "    }\n",
       "</style>\n",
       "<table border=\"1\" class=\"dataframe\">\n",
       "  <thead>\n",
       "    <tr style=\"text-align: right;\">\n",
       "      <th></th>\n",
       "      <th>content</th>\n",
       "      <th>polarity</th>\n",
       "      <th>agreement</th>\n",
       "    </tr>\n",
       "  </thead>\n",
       "  <tbody>\n",
       "    <tr>\n",
       "      <th>3912</th>\n",
       "      <td>El envalentonamiento de nuestro extremo centro les lleva a respaldar el  linchamiento a Garzón con argumentos democráticos.</td>\n",
       "      <td>NEU</td>\n",
       "      <td>DISAGREEMENT</td>\n",
       "    </tr>\n",
       "    <tr>\n",
       "      <th>4087</th>\n",
       "      <td>Ademas , que sentido tiene que desde el gobierno andaluz imponga una subasta de medicamentos cuando no tienen competencia en ello?</td>\n",
       "      <td>N</td>\n",
       "      <td>AGREEMENT</td>\n",
       "    </tr>\n",
       "    <tr>\n",
       "      <th>2306</th>\n",
       "      <td>El lunes toma posesión la nueva abogada general del Estado y otros altos cargos en el Ministerio de Justicia http://t.co/4u6n5AOU</td>\n",
       "      <td>NONE</td>\n",
       "      <td>AGREEMENT</td>\n",
       "    </tr>\n",
       "    <tr>\n",
       "      <th>5945</th>\n",
       "      <td>En el ecuador de la campaña  #25M: Gracias por el esfuerzo que tod@s estáis haciendo. Somos el partido de la calle y las propuestas.</td>\n",
       "      <td>P+</td>\n",
       "      <td>AGREEMENT</td>\n",
       "    </tr>\n",
       "    <tr>\n",
       "      <th>444</th>\n",
       "      <td>\" @sanchezcastejon:  Tras apoyar a nuestros candidatos en Ourense, de camino a la Feria del Libro en Ponferrada\" a montarse en la noria</td>\n",
       "      <td>NEU</td>\n",
       "      <td></td>\n",
       "    </tr>\n",
       "  </tbody>\n",
       "</table>\n",
       "</div>"
      ],
      "text/plain": [
       "                                                                                                                                      content  \\\n",
       "3912              El envalentonamiento de nuestro extremo centro les lleva a respaldar el  linchamiento a Garzón con argumentos democráticos.   \n",
       "4087       Ademas , que sentido tiene que desde el gobierno andaluz imponga una subasta de medicamentos cuando no tienen competencia en ello?   \n",
       "2306        El lunes toma posesión la nueva abogada general del Estado y otros altos cargos en el Ministerio de Justicia http://t.co/4u6n5AOU   \n",
       "5945     En el ecuador de la campaña  #25M: Gracias por el esfuerzo que tod@s estáis haciendo. Somos el partido de la calle y las propuestas.   \n",
       "444   \" @sanchezcastejon:  Tras apoyar a nuestros candidatos en Ourense, de camino a la Feria del Libro en Ponferrada\" a montarse en la noria   \n",
       "\n",
       "     polarity     agreement  \n",
       "3912      NEU  DISAGREEMENT  \n",
       "4087        N     AGREEMENT  \n",
       "2306     NONE     AGREEMENT  \n",
       "5945       P+     AGREEMENT  \n",
       "444       NEU                "
      ]
     },
     "execution_count": 40,
     "metadata": {},
     "output_type": "execute_result"
    }
   ],
   "source": [
    "tweets_corpus = pd.concat([\n",
    "        general_tweets_corpus_train,\n",
    "        social_tweets_corpus_train,\n",
    "        stompol_tweets_train_tagged,\n",
    "        #tweet_testeo,\n",
    "    ])\n",
    "tweets_corpus.sample(5)"
   ]
  },
  {
   "cell_type": "markdown",
   "metadata": {},
   "source": [
    "Filtramos tweets en desacuerdo y sin polaridad y removemos los tweets que son solo hipervinculos"
   ]
  },
  {
   "cell_type": "code",
   "execution_count": 41,
   "metadata": {},
   "outputs": [],
   "source": [
    "tweets_corpus = tweets_corpus.query('agreement != \"DISAGREEMENT\" and polarity != \"NONE\"')\n",
    "tweets_corpus = tweets_corpus[-tweets_corpus.content.str.contains('^http.*$')]"
   ]
  },
  {
   "cell_type": "code",
   "execution_count": 42,
   "metadata": {},
   "outputs": [
    {
     "data": {
      "text/plain": [
       "22650"
      ]
     },
     "execution_count": 42,
     "metadata": {},
     "output_type": "execute_result"
    }
   ],
   "source": [
    "tweets_corpus.size  #tamaño vector entrenamiento"
   ]
  },
  {
   "cell_type": "code",
   "execution_count": 43,
   "metadata": {
    "scrolled": true
   },
   "outputs": [
    {
     "data": {
      "text/html": [
       "<div>\n",
       "<style scoped>\n",
       "    .dataframe tbody tr th:only-of-type {\n",
       "        vertical-align: middle;\n",
       "    }\n",
       "\n",
       "    .dataframe tbody tr th {\n",
       "        vertical-align: top;\n",
       "    }\n",
       "\n",
       "    .dataframe thead th {\n",
       "        text-align: right;\n",
       "    }\n",
       "</style>\n",
       "<table border=\"1\" class=\"dataframe\">\n",
       "  <thead>\n",
       "    <tr style=\"text-align: right;\">\n",
       "      <th></th>\n",
       "      <th>content</th>\n",
       "      <th>polarity</th>\n",
       "      <th>agreement</th>\n",
       "    </tr>\n",
       "  </thead>\n",
       "  <tbody>\n",
       "    <tr>\n",
       "      <th>1087</th>\n",
       "      <td>Yo sigo en shock con el carrerón de  Bale , pero hala  Madrid  y eso...</td>\n",
       "      <td>P</td>\n",
       "      <td></td>\n",
       "    </tr>\n",
       "    <tr>\n",
       "      <th>102</th>\n",
       "      <td>Parados q votan al  @PPopular   q tios + grandes!!!</td>\n",
       "      <td>N</td>\n",
       "      <td></td>\n",
       "    </tr>\n",
       "    <tr>\n",
       "      <th>6997</th>\n",
       "      <td>@Amartinbeaumont crees q puede aplicarse in modelo de gobierno tecnocrata en España? Existe ese riesgo?</td>\n",
       "      <td>N</td>\n",
       "      <td>AGREEMENT</td>\n",
       "    </tr>\n",
       "    <tr>\n",
       "      <th>306</th>\n",
       "      <td>Vosotros sabeis cuanto le pagaran a  Ronaldo  por llevar la gorra?</td>\n",
       "      <td>NEU</td>\n",
       "      <td></td>\n",
       "    </tr>\n",
       "    <tr>\n",
       "      <th>1623</th>\n",
       "      <td>Busquets ,  me la chupas ?</td>\n",
       "      <td>N</td>\n",
       "      <td></td>\n",
       "    </tr>\n",
       "    <tr>\n",
       "      <th>5757</th>\n",
       "      <td>Un abrazo padre de Anais. ;) RT @AnaisCardoso91: @AlejandroSanz Le puedes mandar un saludo a mi padre que ... http://t.co/pqeixKv3</td>\n",
       "      <td>P</td>\n",
       "      <td>AGREEMENT</td>\n",
       "    </tr>\n",
       "    <tr>\n",
       "      <th>6946</th>\n",
       "      <td>Yo tambien me acuerdo. ;) RT @atrejom: RT @ROSS_RIV: @atrejom te acuerdas del concierto gratis de @AlejandroSanz ... http://t.co/hLjoRIMV</td>\n",
       "      <td>P</td>\n",
       "      <td>AGREEMENT</td>\n",
       "    </tr>\n",
       "    <tr>\n",
       "      <th>897</th>\n",
       "      <td>Todos  ladrando de que va ganando el  real  pero cuando los empato el  barça  no decian ni madres .|.</td>\n",
       "      <td>N</td>\n",
       "      <td></td>\n",
       "    </tr>\n",
       "    <tr>\n",
       "      <th>1561</th>\n",
       "      <td>Que grande  @SergioRamos , a ver si da unos buenos capotazos para celebrarlo en honor a  Raúl .</td>\n",
       "      <td>P</td>\n",
       "      <td></td>\n",
       "    </tr>\n",
       "    <tr>\n",
       "      <th>4406</th>\n",
       "      <td>Aznar como siempre poniendo deberes a Rajoy: reformas ya y ni un movimiento ante ETA. #congresopp</td>\n",
       "      <td>N</td>\n",
       "      <td>AGREEMENT</td>\n",
       "    </tr>\n",
       "  </tbody>\n",
       "</table>\n",
       "</div>"
      ],
      "text/plain": [
       "                                                                                                                                        content  \\\n",
       "1087                                                                    Yo sigo en shock con el carrerón de  Bale , pero hala  Madrid  y eso...   \n",
       "102                                                                                         Parados q votan al  @PPopular   q tios + grandes!!!   \n",
       "6997                                    @Amartinbeaumont crees q puede aplicarse in modelo de gobierno tecnocrata en España? Existe ese riesgo?   \n",
       "306                                                                          Vosotros sabeis cuanto le pagaran a  Ronaldo  por llevar la gorra?   \n",
       "1623                                                                                                                 Busquets ,  me la chupas ?   \n",
       "5757         Un abrazo padre de Anais. ;) RT @AnaisCardoso91: @AlejandroSanz Le puedes mandar un saludo a mi padre que ... http://t.co/pqeixKv3   \n",
       "6946  Yo tambien me acuerdo. ;) RT @atrejom: RT @ROSS_RIV: @atrejom te acuerdas del concierto gratis de @AlejandroSanz ... http://t.co/hLjoRIMV   \n",
       "897                                       Todos  ladrando de que va ganando el  real  pero cuando los empato el  barça  no decian ni madres .|.   \n",
       "1561                                            Que grande  @SergioRamos , a ver si da unos buenos capotazos para celebrarlo en honor a  Raúl .   \n",
       "4406                                          Aznar como siempre poniendo deberes a Rajoy: reformas ya y ni un movimiento ante ETA. #congresopp   \n",
       "\n",
       "     polarity  agreement  \n",
       "1087        P             \n",
       "102         N             \n",
       "6997        N  AGREEMENT  \n",
       "306       NEU             \n",
       "1623        N             \n",
       "5757        P  AGREEMENT  \n",
       "6946        P  AGREEMENT  \n",
       "897         N             \n",
       "1561        P             \n",
       "4406        N  AGREEMENT  "
      ]
     },
     "execution_count": 43,
     "metadata": {},
     "output_type": "execute_result"
    }
   ],
   "source": [
    "tweets_corpus.sample(10)"
   ]
  },
  {
   "cell_type": "markdown",
   "metadata": {},
   "source": [
    "Seguiremos con el proceso de Tokenizar y stemming"
   ]
  },
  {
   "cell_type": "markdown",
   "metadata": {},
   "source": [
    "Primero descargaremos las stopwords"
   ]
  },
  {
   "cell_type": "code",
   "execution_count": 44,
   "metadata": {},
   "outputs": [
    {
     "name": "stderr",
     "output_type": "stream",
     "text": [
      "[nltk_data] Downloading package stopwords to\n",
      "[nltk_data]     /home/jromanf/nltk_data...\n",
      "[nltk_data]   Package stopwords is already up-to-date!\n"
     ]
    },
    {
     "data": {
      "text/plain": [
       "True"
      ]
     },
     "execution_count": 44,
     "metadata": {},
     "output_type": "execute_result"
    }
   ],
   "source": [
    "import nltk\n",
    "nltk.download(\"stopwords\")"
   ]
  },
  {
   "cell_type": "markdown",
   "metadata": {},
   "source": [
    "Luego cargaremos las stopwords en español"
   ]
  },
  {
   "cell_type": "code",
   "execution_count": 45,
   "metadata": {},
   "outputs": [],
   "source": [
    "from nltk.corpus import stopwords\n",
    "spanish_stopwords = stopwords.words('spanish')"
   ]
  },
  {
   "cell_type": "code",
   "execution_count": 46,
   "metadata": {},
   "outputs": [],
   "source": [
    "from string import punctuation\n",
    "non_words = list(punctuation)\n",
    "#we add spanish punctuation\n",
    "non_words.extend(['¿', '¡'])\n",
    "non_words.extend(map(str,range(10)))"
   ]
  },
  {
   "cell_type": "markdown",
   "metadata": {},
   "source": [
    "Creamos a continuación las funciones para token y stemm"
   ]
  },
  {
   "cell_type": "code",
   "execution_count": 47,
   "metadata": {},
   "outputs": [],
   "source": [
    "#Funcion token, stem\n",
    "from sklearn.feature_extraction.text import CountVectorizer       \n",
    "from nltk.stem import SnowballStemmer\n",
    "from nltk.tokenize import word_tokenize\n",
    "\n",
    "\n",
    "stemmer = SnowballStemmer('spanish')\n",
    "def stem_tokens(tokens, stemmer):\n",
    "    stemmed = []\n",
    "    for item in tokens:\n",
    "        stemmed.append(stemmer.stem(item))\n",
    "    return stemmed\n",
    "\n",
    "def tokenize(text):\n",
    "    # remove non letters\n",
    "    text = ''.join([c for c in text if c not in non_words])\n",
    "    # tokenize\n",
    "    tokens =  word_tokenize(text)\n",
    "\n",
    "    # stem\n",
    "    try:\n",
    "        stems = stem_tokens(tokens, stemmer)\n",
    "    except Exception as e:\n",
    "        print(e)\n",
    "        print(text)\n",
    "        stems = ['']\n",
    "    return stems\n"
   ]
  },
  {
   "cell_type": "markdown",
   "metadata": {},
   "source": [
    "Vamos a evaluar el modelo con los tweets que tienen una polaridad diferente a la neutral"
   ]
  },
  {
   "cell_type": "code",
   "execution_count": 48,
   "metadata": {
    "scrolled": true
   },
   "outputs": [
    {
     "name": "stderr",
     "output_type": "stream",
     "text": [
      "/opt/anaconda3/lib/python3.6/site-packages/ipykernel_launcher.py:8: SettingWithCopyWarning: \n",
      "A value is trying to be set on a copy of a slice from a DataFrame\n",
      "\n",
      "See the caveats in the documentation: http://pandas.pydata.org/pandas-docs/stable/indexing.html#indexing-view-versus-copy\n",
      "  \n"
     ]
    },
    {
     "data": {
      "text/plain": [
       "1    0.548709\n",
       "0    0.451291\n",
       "Name: polarity_bin, dtype: float64"
      ]
     },
     "execution_count": 48,
     "metadata": {},
     "output_type": "execute_result"
    }
   ],
   "source": [
    "from sklearn.model_selection import cross_val_score\n",
    "from sklearn.svm import LinearSVC\n",
    "from sklearn.pipeline import Pipeline\n",
    "\n",
    "tweets_corpus = tweets_corpus[tweets_corpus.polarity != 'NEU']\n",
    "\n",
    "tweets_corpus['polarity_bin'] = 0\n",
    "tweets_corpus.polarity_bin[tweets_corpus.polarity.isin(['P', 'P+'])] = 1\n",
    "tweets_corpus.polarity_bin.value_counts(normalize=True)"
   ]
  },
  {
   "cell_type": "code",
   "execution_count": 49,
   "metadata": {},
   "outputs": [
    {
     "data": {
      "text/html": [
       "<div>\n",
       "<style scoped>\n",
       "    .dataframe tbody tr th:only-of-type {\n",
       "        vertical-align: middle;\n",
       "    }\n",
       "\n",
       "    .dataframe tbody tr th {\n",
       "        vertical-align: top;\n",
       "    }\n",
       "\n",
       "    .dataframe thead th {\n",
       "        text-align: right;\n",
       "    }\n",
       "</style>\n",
       "<table border=\"1\" class=\"dataframe\">\n",
       "  <thead>\n",
       "    <tr style=\"text-align: right;\">\n",
       "      <th></th>\n",
       "      <th>content</th>\n",
       "      <th>polarity</th>\n",
       "      <th>agreement</th>\n",
       "      <th>polarity_bin</th>\n",
       "    </tr>\n",
       "  </thead>\n",
       "  <tbody>\n",
       "    <tr>\n",
       "      <th>4669</th>\n",
       "      <td>Impresionante @Carlos_Latre y su \"Yes, We Spain Is  Different\"! No os lo perdáis!!! Casi dos horas sin parar de reír! Enorme!!</td>\n",
       "      <td>P+</td>\n",
       "      <td>AGREEMENT</td>\n",
       "      <td>1</td>\n",
       "    </tr>\n",
       "    <tr>\n",
       "      <th>1045</th>\n",
       "      <td>Ojalá el  tata  siga, pedazo de entrenador.</td>\n",
       "      <td>P</td>\n",
       "      <td></td>\n",
       "      <td>1</td>\n",
       "    </tr>\n",
       "    <tr>\n",
       "      <th>1352</th>\n",
       "      <td>PP y PSOE destacan que el Rey estuvo a la altura de las circunstanciasmhttp://mun.do/tcMBYE via @elmundoes</td>\n",
       "      <td>P+</td>\n",
       "      <td>AGREEMENT</td>\n",
       "      <td>1</td>\n",
       "    </tr>\n",
       "    <tr>\n",
       "      <th>2838</th>\n",
       "      <td>Brasil aumenta tensiones con Iran http://t.co/3AyCHlfS</td>\n",
       "      <td>N</td>\n",
       "      <td>AGREEMENT</td>\n",
       "      <td>0</td>\n",
       "    </tr>\n",
       "    <tr>\n",
       "      <th>7195</th>\n",
       "      <td>Es muy llamativo que la Infanta Elena no sepa la operación que le han hecho a su hijo,no?. rueda de prensa surrealista, la verdad.</td>\n",
       "      <td>N+</td>\n",
       "      <td>AGREEMENT</td>\n",
       "      <td>0</td>\n",
       "    </tr>\n",
       "    <tr>\n",
       "      <th>6310</th>\n",
       "      <td>Felipe pide \"sentido común\" a Rajoy por las reformas. Rajoy apela al sentido común para hacerlas. No perdamos el sentido. #25MRebélate</td>\n",
       "      <td>N</td>\n",
       "      <td>AGREEMENT</td>\n",
       "      <td>0</td>\n",
       "    </tr>\n",
       "    <tr>\n",
       "      <th>6546</th>\n",
       "      <td>Los 7 incendios declarados en Galicia, han calcinado más de 400 hectáreas de monte. Un brigadista moría en Castrelo do Val, Orense</td>\n",
       "      <td>N+</td>\n",
       "      <td>AGREEMENT</td>\n",
       "      <td>0</td>\n",
       "    </tr>\n",
       "    <tr>\n",
       "      <th>2601</th>\n",
       "      <td>A punto d empezar en @mananascuatro con @mrtfernandez @Vallvey @jmahrens y Jorge Verstrynge... Garzón, víctima o verdugo? Visto pr sentencia</td>\n",
       "      <td>N</td>\n",
       "      <td>AGREEMENT</td>\n",
       "      <td>0</td>\n",
       "    </tr>\n",
       "    <tr>\n",
       "      <th>509</th>\n",
       "      <td>@agarzon   considero totalmente injustas las palabras vertidas por usted contra la Guardia Civil. Y espero que se retracte.</td>\n",
       "      <td>N</td>\n",
       "      <td></td>\n",
       "      <td>0</td>\n",
       "    </tr>\n",
       "    <tr>\n",
       "      <th>5610</th>\n",
       "      <td>Llena de tristeza que víctimas del terrorismo como #Pilar Manjón pretendan boicotear el trabajo de la justicia en el #11M #11Mconlasvíctimas</td>\n",
       "      <td>N+</td>\n",
       "      <td>AGREEMENT</td>\n",
       "      <td>0</td>\n",
       "    </tr>\n",
       "  </tbody>\n",
       "</table>\n",
       "</div>"
      ],
      "text/plain": [
       "                                                                                                                                           content  \\\n",
       "4669                Impresionante @Carlos_Latre y su \"Yes, We Spain Is  Different\"! No os lo perdáis!!! Casi dos horas sin parar de reír! Enorme!!   \n",
       "1045                                                                                                   Ojalá el  tata  siga, pedazo de entrenador.   \n",
       "1352                                    PP y PSOE destacan que el Rey estuvo a la altura de las circunstanciasmhttp://mun.do/tcMBYE via @elmundoes   \n",
       "2838                                                                                        Brasil aumenta tensiones con Iran http://t.co/3AyCHlfS   \n",
       "7195            Es muy llamativo que la Infanta Elena no sepa la operación que le han hecho a su hijo,no?. rueda de prensa surrealista, la verdad.   \n",
       "6310        Felipe pide \"sentido común\" a Rajoy por las reformas. Rajoy apela al sentido común para hacerlas. No perdamos el sentido. #25MRebélate   \n",
       "6546            Los 7 incendios declarados en Galicia, han calcinado más de 400 hectáreas de monte. Un brigadista moría en Castrelo do Val, Orense   \n",
       "2601  A punto d empezar en @mananascuatro con @mrtfernandez @Vallvey @jmahrens y Jorge Verstrynge... Garzón, víctima o verdugo? Visto pr sentencia   \n",
       "509                    @agarzon   considero totalmente injustas las palabras vertidas por usted contra la Guardia Civil. Y espero que se retracte.   \n",
       "5610  Llena de tristeza que víctimas del terrorismo como #Pilar Manjón pretendan boicotear el trabajo de la justicia en el #11M #11Mconlasvíctimas   \n",
       "\n",
       "     polarity  agreement  polarity_bin  \n",
       "4669       P+  AGREEMENT             1  \n",
       "1045        P                        1  \n",
       "1352       P+  AGREEMENT             1  \n",
       "2838        N  AGREEMENT             0  \n",
       "7195       N+  AGREEMENT             0  \n",
       "6310        N  AGREEMENT             0  \n",
       "6546       N+  AGREEMENT             0  \n",
       "2601        N  AGREEMENT             0  \n",
       "509         N                        0  \n",
       "5610       N+  AGREEMENT             0  "
      ]
     },
     "execution_count": 49,
     "metadata": {},
     "output_type": "execute_result"
    }
   ],
   "source": [
    "tweets_corpus.sample(10)"
   ]
  },
  {
   "cell_type": "code",
   "execution_count": 50,
   "metadata": {},
   "outputs": [],
   "source": [
    "#SVM\n",
    "from sklearn.svm import LinearSVC\n",
    "from sklearn.pipeline import Pipeline\n",
    "\n",
    "#Creamos un Pipeline con los parámetros mejores\n",
    "pipeline = Pipeline([\n",
    "    ('vect', CountVectorizer(\n",
    "            analyzer = 'word',\n",
    "            tokenizer = tokenize,\n",
    "            lowercase = True,\n",
    "            stop_words = spanish_stopwords,\n",
    "            min_df = 50,\n",
    "            max_df = 1.9,\n",
    "            ngram_range=(1, 1),\n",
    "            max_features=1000\n",
    "            )),\n",
    "    ('cls', LinearSVC(C=.2, loss='squared_hinge',max_iter=1000,multi_class='ovr',\n",
    "             random_state=None,\n",
    "             penalty='l2',\n",
    "             tol=0.0001\n",
    "             )),\n",
    "])"
   ]
  },
  {
   "cell_type": "code",
   "execution_count": null,
   "metadata": {
    "scrolled": true
   },
   "outputs": [],
   "source": []
  },
  {
   "cell_type": "code",
   "execution_count": 51,
   "metadata": {},
   "outputs": [
    {
     "name": "stderr",
     "output_type": "stream",
     "text": [
      "/opt/anaconda3/lib/python3.6/site-packages/sklearn/feature_extraction/text.py:300: UserWarning: Your stop_words may be inconsistent with your preprocessing. Tokenizing the stop words generated tokens ['algun', 'com', 'contr', 'cuand', 'desd', 'dond', 'durant', 'eram', 'estab', 'estais', 'estam', 'estan', 'estand', 'estaran', 'estaras', 'esteis', 'estem', 'esten', 'estes', 'estuv', 'fuer', 'fues', 'fuim', 'fuist', 'hab', 'habr', 'habran', 'habras', 'hast', 'hem', 'hub', 'mas', 'mia', 'mias', 'mio', 'mios', 'much', 'nad', 'nosotr', 'nuestr', 'par', 'per', 'poc', 'porqu', 'qui', 'seais', 'seam', 'sent', 'ser', 'seran', 'seras', 'si', 'sient', 'sint', 'sobr', 'som', 'suy', 'tambien', 'tant', 'ten', 'tendr', 'tendran', 'tendras', 'teng', 'tien', 'tod', 'tuv', 'tuy', 'vosotr', 'vuestr'] not in stop_words.\n",
      "  'stop_words.' % sorted(inconsistent))\n"
     ]
    },
    {
     "data": {
      "text/plain": [
       "Pipeline(memory=None,\n",
       "         steps=[('vect',\n",
       "                 CountVectorizer(analyzer='word', binary=False,\n",
       "                                 decode_error='strict',\n",
       "                                 dtype=<class 'numpy.int64'>, encoding='utf-8',\n",
       "                                 input='content', lowercase=True, max_df=1.9,\n",
       "                                 max_features=1000, min_df=50,\n",
       "                                 ngram_range=(1, 1), preprocessor=None,\n",
       "                                 stop_words=['de', 'la', 'que', 'el', 'en', 'y',\n",
       "                                             'a', 'los', 'del', 'se', 'las',\n",
       "                                             'por', 'un', 'para', 'con', 'no'...\n",
       "                                             'o', 'este', 'sí', 'porque', ...],\n",
       "                                 strip_accents=None,\n",
       "                                 token_pattern='(?u)\\\\b\\\\w\\\\w+\\\\b',\n",
       "                                 tokenizer=<function tokenize at 0x7fea5d236b70>,\n",
       "                                 vocabulary=None)),\n",
       "                ('cls',\n",
       "                 LinearSVC(C=0.2, class_weight=None, dual=True,\n",
       "                           fit_intercept=True, intercept_scaling=1,\n",
       "                           loss='squared_hinge', max_iter=1000,\n",
       "                           multi_class='ovr', penalty='l2', random_state=None,\n",
       "                           tol=0.0001, verbose=0))],\n",
       "         verbose=False)"
      ]
     },
     "execution_count": 51,
     "metadata": {},
     "output_type": "execute_result"
    }
   ],
   "source": [
    "#ajustamos el modelo at corpus de TASS\n",
    "pipeline.fit(tweets_corpus.content, tweets_corpus.polarity_bin)"
   ]
  },
  {
   "cell_type": "markdown",
   "metadata": {},
   "source": [
    "A continuación cargamos los textos para el análisis de sentimiento, en este caso un conjunto de tweets y los\n",
    "organizamos en el formato requerido"
   ]
  },
  {
   "cell_type": "code",
   "execution_count": 52,
   "metadata": {},
   "outputs": [],
   "source": [
    "#Cargar textos para el analisis vector Test desde MongoDB\n",
    "from pymongo import MongoClient\n",
    "\n",
    "# Create a client instance of MongoClient\n",
    "client= MongoClient('mongodb://localhost:27017/')\n",
    "db= client.cultura\n",
    "collection  = db.prueba1\n",
    "# Convertir a Panda\n",
    "import pandas as pd\n",
    "\n",
    "tweets_test = pd.DataFrame(list(collection.find()))\n",
    "tweets_test_kNN = tweets_test\n",
    "#Eliminar valores nan de la columna tweet\n",
    "tweets_test['tweet'] = tweets_test['tweet'].fillna(' ')"
   ]
  },
  {
   "cell_type": "code",
   "execution_count": 199,
   "metadata": {},
   "outputs": [],
   "source": [
    "#NUBE DE PALABRAS\n",
    "#Funcion encargada de eliminar caracteres especiales usando la libreria re\n",
    "import re\n",
    "def remocion(x):\n",
    "    for i in range(len(x)):\n",
    "        x[i]=re.sub('(f|ht)tp(s?)://(.*)[.][a-z]+',' ',x[i])\n",
    "        x[i]=re.sub('(f|ht)tp(s?)://(.*)[.][a-z]+',' ',x[i])\n",
    "        x[i]=re.sub('[a-zA-Z0-9.?{}]+@\\w+\\.\\w+.\\w*','',x[i])\n",
    "        x[i]=re.sub('\\[[a-zA-Z0-9\\,\\. ]+\\]','',x[i]) \n",
    "        x[i]=re.sub('\\([a-zA-Z0-9\\,\\.\\- ]+\\)',' ',x[i])\n",
    "        x[i]=re.sub('((et al\\.)|(i\\.i\\.d\\.)|(i\\.e\\.)|\\-|\\'|\\’|\\`)','',x[i])\n",
    "        x[i]=re.sub('[^a-zA-Z_á\\éíóúà\\èìòùäëïöü\\s]','',x[i])    \n",
    "        x[i]=re.sub(' +',' ',x[i])    \n",
    "        x[i]=re.sub('(a-z|A-Z){1,1}','',x[i])         \n",
    "    return x  \n",
    "a=tweets_test.loc[:,'tweet']\n",
    "tokens = lambda x:x.split() #Funcion para separar las oraciones por palabras\n",
    "tokenizado=a.astype(str).apply(tokens) #Se aplica la función anterior\n",
    "texto_limpio = tokenizado.apply(remocion) #Se eliminar los caracteres indeseados\n",
    "#Convertir a Lista\n",
    "tokenizada=texto_limpio.to_list()\n",
    "#tokenizada= tokenizada[2][:]\n",
    "\n",
    "#Eliminamos las palabras de una y dos letra\n",
    "for i in range(0,len(tokenizada)):\n",
    "    tokenizada[i][:]=[w for w in tokenizada[i][:] if (len(w)>2)] #eliminar palabras de una y dos letra\n",
    "    tokenizada[i][:]=[w for w in tokenizada[i][:] if (w not in spanish_stopwords)] #eliminar stop_words\n",
    "\n",
    "palabras=[]\n",
    "#Crear una lista de elemento por palabra\n",
    "for i in range(0,len(tokenizada)):\n",
    "    for j in range(0,len(tokenizada[i][:])):\n",
    "        palabras.append(tokenizada[i][j])\n",
    "\n",
    "#Calculando frecuencia de las palabras\n",
    "frecuencia=nltk.FreqDist(palabras)"
   ]
  },
  {
   "cell_type": "code",
   "execution_count": 200,
   "metadata": {},
   "outputs": [],
   "source": [
    "#NUBE DE PALABRAS\n",
    "## Normalmente las 30 primeras palabras son palabras que no dan mucha información sobre las tendencias, por esto procederemos\n",
    "## a eliminarlas y calcular de nuevo la frecuencia\n",
    "comunes =[]\n",
    "for i in range(0,len(frecuencia.most_common(30))):\n",
    "    comunes.append(frecuencia.most_common(30)[i][0])\n",
    "\n",
    "palabras2 = [w for w in palabras if (w not in comunes)]\n",
    "frecuencia2 = nltk.FreqDist(palabras2)"
   ]
  },
  {
   "cell_type": "code",
   "execution_count": 201,
   "metadata": {},
   "outputs": [
    {
     "data": {
      "image/png": "[encoded data removed]",
      "text/plain": [
       "<Figure size 432x288 with 1 Axes>"
      ]
     },
     "metadata": {
      "needs_background": "light"
     },
     "output_type": "display_data"
    }
   ],
   "source": [
    "#NUBE DE PALABRAS\n",
    "#Graficando la frecuencia\n",
    "frecuencia2.plot(30,cumulative=False)"
   ]
  },
  {
   "cell_type": "code",
   "execution_count": 207,
   "metadata": {},
   "outputs": [
    {
     "data": {
      "image/png": "[encoded data removed]",
      "text/plain": [
       "<Figure size 864x864 with 1 Axes>"
      ]
     },
     "metadata": {
      "needs_background": "light"
     },
     "output_type": "display_data"
    }
   ],
   "source": [
    "#NUBE DE PALABRAS \n",
    "#https://stackoverrun.com/es/q/4526646\n",
    "##Creando la nube\n",
    "from wordcloud import WordCloud\n",
    "\n",
    "def show_wordcloud(data, title = \"Tendencias 10000 Tweets Murcia 2014 a 216\"): \n",
    "    wordcloud = WordCloud(\n",
    "     background_color='white', \n",
    "     stopwords=spanish_stopwords, \n",
    "     max_words=200, \n",
    "     max_font_size=40, \n",
    "     scale=3, \n",
    "     random_state=1 # chosen at random by flipping a coin; it was heads \n",
    "        \n",
    "    ).generate(str(data)) \n",
    "\n",
    "    fig = plt.figure(1, figsize=(12, 12)) \n",
    "    plt.axis('off') \n",
    "    if title: \n",
    "     fig.suptitle(title, fontsize=20) \n",
    "     fig.subplots_adjust(top=2.3) \n",
    "\n",
    "    plt.imshow(wordcloud) \n",
    "    plt.show() \n",
    "\n",
    "show_wordcloud(palabras2) "
   ]
  },
  {
   "cell_type": "code",
   "execution_count": 54,
   "metadata": {},
   "outputs": [],
   "source": [
    "#Metemos los datos al modelo, a diferenia del anterior hubo que agreagar al final astype str\n",
    "tweets_test['polarity'] = pipeline.predict(tweets_test.tweet.astype(str))"
   ]
  },
  {
   "cell_type": "code",
   "execution_count": 55,
   "metadata": {
    "scrolled": true
   },
   "outputs": [
    {
     "data": {
      "text/html": [
       "<div>\n",
       "<style scoped>\n",
       "    .dataframe tbody tr th:only-of-type {\n",
       "        vertical-align: middle;\n",
       "    }\n",
       "\n",
       "    .dataframe tbody tr th {\n",
       "        vertical-align: top;\n",
       "    }\n",
       "\n",
       "    .dataframe thead th {\n",
       "        text-align: right;\n",
       "    }\n",
       "</style>\n",
       "<table border=\"1\" class=\"dataframe\">\n",
       "  <thead>\n",
       "    <tr style=\"text-align: right;\">\n",
       "      <th></th>\n",
       "      <th>_id</th>\n",
       "      <th>lat</th>\n",
       "      <th>lon</th>\n",
       "      <th>timestamp</th>\n",
       "      <th>tweet</th>\n",
       "      <th>user</th>\n",
       "      <th>polarity</th>\n",
       "    </tr>\n",
       "  </thead>\n",
       "  <tbody>\n",
       "    <tr>\n",
       "      <th>0</th>\n",
       "      <td>5d1b8c3a5923dbcca28bd256</td>\n",
       "      <td>37.9774</td>\n",
       "      <td>-1.063</td>\n",
       "      <td>Tue Apr 15 02:23:01 +0000 2014</td>\n",
       "      <td>Ahora mismo si tuviese una pistola me pegaba un tiro sin pensarlo.</td>\n",
       "      <td>@AlexLuna_72</td>\n",
       "      <td>0</td>\n",
       "    </tr>\n",
       "    <tr>\n",
       "      <th>1</th>\n",
       "      <td>5d1b8c3a5923dbcca28bd257</td>\n",
       "      <td></td>\n",
       "      <td></td>\n",
       "      <td>Tue Apr 15 02:23:22 +0000 2014</td>\n",
       "      <td>Hola.   Visto 05:36.   Ms que Visto 05:38.   Ignorado 05:41.   No le importas 5:58.</td>\n",
       "      <td>@Gissell_Tytta</td>\n",
       "      <td>1</td>\n",
       "    </tr>\n",
       "    <tr>\n",
       "      <th>2</th>\n",
       "      <td>5d1b8c3a5923dbcca28bd258</td>\n",
       "      <td>37.9798</td>\n",
       "      <td>-1.06197</td>\n",
       "      <td>Tue Apr 15 02:23:32 +0000 2014</td>\n",
       "      <td>Buenas noches a todos... Fav ;) juju</td>\n",
       "      <td>@69Rikifriki</td>\n",
       "      <td>1</td>\n",
       "    </tr>\n",
       "    <tr>\n",
       "      <th>3</th>\n",
       "      <td>5d1b8c3a5923dbcca28bd259</td>\n",
       "      <td></td>\n",
       "      <td></td>\n",
       "      <td>Tue Apr 15 02:24:44 +0000 2014</td>\n",
       "      <td>JAJAJA</td>\n",
       "      <td>@Gissell_Tytta</td>\n",
       "      <td>1</td>\n",
       "    </tr>\n",
       "    <tr>\n",
       "      <th>4</th>\n",
       "      <td>5d1b8c3a5923dbcca28bd25a</td>\n",
       "      <td>38.0688</td>\n",
       "      <td>-1.19224</td>\n",
       "      <td>Tue Apr 15 02:25:22 +0000 2014</td>\n",
       "      <td>Salimos para a corua :)</td>\n",
       "      <td>@AndreaGalian</td>\n",
       "      <td>1</td>\n",
       "    </tr>\n",
       "  </tbody>\n",
       "</table>\n",
       "</div>"
      ],
      "text/plain": [
       "                        _id      lat      lon                       timestamp  \\\n",
       "0  5d1b8c3a5923dbcca28bd256  37.9774   -1.063  Tue Apr 15 02:23:01 +0000 2014   \n",
       "1  5d1b8c3a5923dbcca28bd257                    Tue Apr 15 02:23:22 +0000 2014   \n",
       "2  5d1b8c3a5923dbcca28bd258  37.9798 -1.06197  Tue Apr 15 02:23:32 +0000 2014   \n",
       "3  5d1b8c3a5923dbcca28bd259                    Tue Apr 15 02:24:44 +0000 2014   \n",
       "4  5d1b8c3a5923dbcca28bd25a  38.0688 -1.19224  Tue Apr 15 02:25:22 +0000 2014   \n",
       "\n",
       "                                                                                 tweet  \\\n",
       "0                   Ahora mismo si tuviese una pistola me pegaba un tiro sin pensarlo.   \n",
       "1  Hola.   Visto 05:36.   Ms que Visto 05:38.   Ignorado 05:41.   No le importas 5:58.   \n",
       "2                                                 Buenas noches a todos... Fav ;) juju   \n",
       "3                                                                               JAJAJA   \n",
       "4                                                              Salimos para a corua :)   \n",
       "\n",
       "             user  polarity  \n",
       "0    @AlexLuna_72         0  \n",
       "1  @Gissell_Tytta         1  \n",
       "2    @69Rikifriki         1  \n",
       "3  @Gissell_Tytta         1  \n",
       "4   @AndreaGalian         1  "
      ]
     },
     "execution_count": 55,
     "metadata": {},
     "output_type": "execute_result"
    }
   ],
   "source": [
    "tweets_test.head()"
   ]
  },
  {
   "cell_type": "code",
   "execution_count": 56,
   "metadata": {},
   "outputs": [
    {
     "data": {
      "text/plain": [
       "1    0.7654\n",
       "0    0.2346\n",
       "Name: polarity, dtype: float64"
      ]
     },
     "execution_count": 56,
     "metadata": {},
     "output_type": "execute_result"
    }
   ],
   "source": [
    "#Cantidad de positivos y negativos SVM\n",
    "EstimadosSVM = tweets_test_kNN.polarity.value_counts(normalize=True)\n",
    "EstimadosSVM"
   ]
  },
  {
   "cell_type": "code",
   "execution_count": 57,
   "metadata": {},
   "outputs": [
    {
     "data": {
      "text/plain": [
       "Text(0.5, 1.0, 'SVM Polaridad de Tweets')"
      ]
     },
     "execution_count": 57,
     "metadata": {},
     "output_type": "execute_result"
    },
    {
     "data": {
      "image/png": "[encoded data removed]",
      "text/plain": [
       "<Figure size 432x288 with 1 Axes>"
      ]
     },
     "metadata": {},
     "output_type": "display_data"
    }
   ],
   "source": [
    "#Realizaremos gráfico de tortas SVM\n",
    "import matplotlib.pyplot as plt\n",
    "import numpy as np\n",
    "\n",
    "\n",
    "plt.ion()  # Ponemos el modo interactivo\n",
    "pol = [EstimadosSVM.get_values()[0]*100,EstimadosSVM.get_values()[1]*100] # Definimos un vector con el % de visitas del top ten de países\n",
    "#pol = np.append(pol, 100. - np.sum(pol)) # Introducimos un último elemento que recoge el % de visitas de otros países fuera del top ten\n",
    "percepcion = [u'Positivos', u'Negativos']  # Etiquetas para los quesitos\n",
    "explode = [0.2, 0]  # Esto nos ayudará a destacar algunos quesitos\n",
    "plt.pie(pol, labels = percepcion, autopct=\"%0.1f %%\")  # Dibuja un gráfico de quesitos\n",
    "plt.title(u'SVM Polaridad de Tweets')"
   ]
  },
  {
   "cell_type": "code",
   "execution_count": 58,
   "metadata": {},
   "outputs": [],
   "source": [
    "#### Análisis de datos con kNN #####\n",
    "from sklearn.feature_extraction.text import TfidfVectorizer\n",
    "from sklearn.neighbors import KNeighborsClassifier\n",
    "\n",
    "vectorizer = TfidfVectorizer(stop_words=spanish_stopwords)\n",
    "X = vectorizer.fit_transform(tweets_corpus.content)\n",
    "y_train=tweets_corpus['polarity_bin']\n",
    "# Clustering the document with KNN classifier\n",
    "modelknn = KNeighborsClassifier(n_neighbors=10)\n",
    "modelknn.fit(X,y_train)\n",
    "\n",
    "\n",
    "#Cargar textos para el analisis vector Test\n",
    "\n",
    "tweets_test_kNN['tweet'] = tweets_test_kNN['tweet'].fillna(' ')\n",
    "\n",
    "Test = vectorizer.transform(tweets_test_kNN.tweet.astype(str))\n",
    "predicted_labels_knn = modelknn.predict(Test)\n",
    "\n",
    "tweets_test_kNN['polarity'] = predicted_labels_knn"
   ]
  },
  {
   "cell_type": "code",
   "execution_count": 59,
   "metadata": {},
   "outputs": [],
   "source": [
    "#Almacenar datos de resultados en una colección de Mongo llamada \"sentimientos\"\n",
    "#collection2=db.sentimientos\n",
    "#collection2.insert_many(tweets_test.to_dict('records'))"
   ]
  },
  {
   "cell_type": "code",
   "execution_count": 60,
   "metadata": {},
   "outputs": [
    {
     "data": {
      "text/html": [
       "<div>\n",
       "<style scoped>\n",
       "    .dataframe tbody tr th:only-of-type {\n",
       "        vertical-align: middle;\n",
       "    }\n",
       "\n",
       "    .dataframe tbody tr th {\n",
       "        vertical-align: top;\n",
       "    }\n",
       "\n",
       "    .dataframe thead th {\n",
       "        text-align: right;\n",
       "    }\n",
       "</style>\n",
       "<table border=\"1\" class=\"dataframe\">\n",
       "  <thead>\n",
       "    <tr style=\"text-align: right;\">\n",
       "      <th></th>\n",
       "      <th>_id</th>\n",
       "      <th>lat</th>\n",
       "      <th>lon</th>\n",
       "      <th>timestamp</th>\n",
       "      <th>tweet</th>\n",
       "      <th>user</th>\n",
       "      <th>polarity</th>\n",
       "    </tr>\n",
       "  </thead>\n",
       "  <tbody>\n",
       "    <tr>\n",
       "      <th>0</th>\n",
       "      <td>5d1b8c3a5923dbcca28bd256</td>\n",
       "      <td>37.9774</td>\n",
       "      <td>-1.063</td>\n",
       "      <td>Tue Apr 15 02:23:01 +0000 2014</td>\n",
       "      <td>Ahora mismo si tuviese una pistola me pegaba un tiro sin pensarlo.</td>\n",
       "      <td>@AlexLuna_72</td>\n",
       "      <td>0</td>\n",
       "    </tr>\n",
       "    <tr>\n",
       "      <th>1</th>\n",
       "      <td>5d1b8c3a5923dbcca28bd257</td>\n",
       "      <td></td>\n",
       "      <td></td>\n",
       "      <td>Tue Apr 15 02:23:22 +0000 2014</td>\n",
       "      <td>Hola.   Visto 05:36.   Ms que Visto 05:38.   Ignorado 05:41.   No le importas 5:58.</td>\n",
       "      <td>@Gissell_Tytta</td>\n",
       "      <td>0</td>\n",
       "    </tr>\n",
       "    <tr>\n",
       "      <th>2</th>\n",
       "      <td>5d1b8c3a5923dbcca28bd258</td>\n",
       "      <td>37.9798</td>\n",
       "      <td>-1.06197</td>\n",
       "      <td>Tue Apr 15 02:23:32 +0000 2014</td>\n",
       "      <td>Buenas noches a todos... Fav ;) juju</td>\n",
       "      <td>@69Rikifriki</td>\n",
       "      <td>1</td>\n",
       "    </tr>\n",
       "    <tr>\n",
       "      <th>3</th>\n",
       "      <td>5d1b8c3a5923dbcca28bd259</td>\n",
       "      <td></td>\n",
       "      <td></td>\n",
       "      <td>Tue Apr 15 02:24:44 +0000 2014</td>\n",
       "      <td>JAJAJA</td>\n",
       "      <td>@Gissell_Tytta</td>\n",
       "      <td>0</td>\n",
       "    </tr>\n",
       "    <tr>\n",
       "      <th>4</th>\n",
       "      <td>5d1b8c3a5923dbcca28bd25a</td>\n",
       "      <td>38.0688</td>\n",
       "      <td>-1.19224</td>\n",
       "      <td>Tue Apr 15 02:25:22 +0000 2014</td>\n",
       "      <td>Salimos para a corua :)</td>\n",
       "      <td>@AndreaGalian</td>\n",
       "      <td>1</td>\n",
       "    </tr>\n",
       "    <tr>\n",
       "      <th>5</th>\n",
       "      <td>5d1b8c3a5923dbcca28bd25b</td>\n",
       "      <td>37.974</td>\n",
       "      <td>-1.0683</td>\n",
       "      <td>Tue Apr 15 02:25:36 +0000 2014</td>\n",
       "      <td>No va desencaminado!! #MundialBrasil2014 http://t.co/yhDfeN3Z6k</td>\n",
       "      <td>@Fran_pardotomas</td>\n",
       "      <td>0</td>\n",
       "    </tr>\n",
       "    <tr>\n",
       "      <th>6</th>\n",
       "      <td>5d1b8c3a5923dbcca28bd25c</td>\n",
       "      <td></td>\n",
       "      <td></td>\n",
       "      <td>Tue Apr 15 02:25:50 +0000 2014</td>\n",
       "      <td>@Maikykrmusic Te quiero mucho mucho mi vida &amp;lt;3</td>\n",
       "      <td>@Gissell_Tytta</td>\n",
       "      <td>1</td>\n",
       "    </tr>\n",
       "    <tr>\n",
       "      <th>7</th>\n",
       "      <td>5d1b8c3a5923dbcca28bd25d</td>\n",
       "      <td></td>\n",
       "      <td></td>\n",
       "      <td>Tue Apr 15 02:26:07 +0000 2014</td>\n",
       "      <td>Oh maana tengo Edu.Fisica</td>\n",
       "      <td>@daniel_sotoo</td>\n",
       "      <td>1</td>\n",
       "    </tr>\n",
       "    <tr>\n",
       "      <th>8</th>\n",
       "      <td>5d1b8c3a5923dbcca28bd25e</td>\n",
       "      <td>37.9798</td>\n",
       "      <td>-1.06197</td>\n",
       "      <td>Tue Apr 15 02:26:28 +0000 2014</td>\n",
       "      <td>@AlexLuna_72 calla, alexis primo dejate las tonterias que todo pasa y vienen cosas mejores Buenas noches manico</td>\n",
       "      <td>@69Rikifriki</td>\n",
       "      <td>1</td>\n",
       "    </tr>\n",
       "    <tr>\n",
       "      <th>9</th>\n",
       "      <td>5d1b8c3a5923dbcca28bd25f</td>\n",
       "      <td></td>\n",
       "      <td></td>\n",
       "      <td>Tue Apr 15 02:28:41 +0000 2014</td>\n",
       "      <td>@dayi_9926 fback cute acc</td>\n",
       "      <td>@whomaktub</td>\n",
       "      <td>1</td>\n",
       "    </tr>\n",
       "  </tbody>\n",
       "</table>\n",
       "</div>"
      ],
      "text/plain": [
       "                        _id      lat      lon                       timestamp  \\\n",
       "0  5d1b8c3a5923dbcca28bd256  37.9774   -1.063  Tue Apr 15 02:23:01 +0000 2014   \n",
       "1  5d1b8c3a5923dbcca28bd257                    Tue Apr 15 02:23:22 +0000 2014   \n",
       "2  5d1b8c3a5923dbcca28bd258  37.9798 -1.06197  Tue Apr 15 02:23:32 +0000 2014   \n",
       "3  5d1b8c3a5923dbcca28bd259                    Tue Apr 15 02:24:44 +0000 2014   \n",
       "4  5d1b8c3a5923dbcca28bd25a  38.0688 -1.19224  Tue Apr 15 02:25:22 +0000 2014   \n",
       "5  5d1b8c3a5923dbcca28bd25b   37.974  -1.0683  Tue Apr 15 02:25:36 +0000 2014   \n",
       "6  5d1b8c3a5923dbcca28bd25c                    Tue Apr 15 02:25:50 +0000 2014   \n",
       "7  5d1b8c3a5923dbcca28bd25d                    Tue Apr 15 02:26:07 +0000 2014   \n",
       "8  5d1b8c3a5923dbcca28bd25e  37.9798 -1.06197  Tue Apr 15 02:26:28 +0000 2014   \n",
       "9  5d1b8c3a5923dbcca28bd25f                    Tue Apr 15 02:28:41 +0000 2014   \n",
       "\n",
       "                                                                                                             tweet  \\\n",
       "0                                               Ahora mismo si tuviese una pistola me pegaba un tiro sin pensarlo.   \n",
       "1                              Hola.   Visto 05:36.   Ms que Visto 05:38.   Ignorado 05:41.   No le importas 5:58.   \n",
       "2                                                                             Buenas noches a todos... Fav ;) juju   \n",
       "3                                                                                                           JAJAJA   \n",
       "4                                                                                          Salimos para a corua :)   \n",
       "5                                                  No va desencaminado!! #MundialBrasil2014 http://t.co/yhDfeN3Z6k   \n",
       "6                                                                @Maikykrmusic Te quiero mucho mucho mi vida &lt;3   \n",
       "7                                                                                        Oh maana tengo Edu.Fisica   \n",
       "8  @AlexLuna_72 calla, alexis primo dejate las tonterias que todo pasa y vienen cosas mejores Buenas noches manico   \n",
       "9                                                                                        @dayi_9926 fback cute acc   \n",
       "\n",
       "               user  polarity  \n",
       "0      @AlexLuna_72         0  \n",
       "1    @Gissell_Tytta         0  \n",
       "2      @69Rikifriki         1  \n",
       "3    @Gissell_Tytta         0  \n",
       "4     @AndreaGalian         1  \n",
       "5  @Fran_pardotomas         0  \n",
       "6    @Gissell_Tytta         1  \n",
       "7     @daniel_sotoo         1  \n",
       "8      @69Rikifriki         1  \n",
       "9        @whomaktub         1  "
      ]
     },
     "execution_count": 60,
     "metadata": {},
     "output_type": "execute_result"
    }
   ],
   "source": [
    "tweets_test_kNN.head(10)"
   ]
  },
  {
   "cell_type": "code",
   "execution_count": 61,
   "metadata": {},
   "outputs": [
    {
     "data": {
      "text/plain": [
       "1    0.6936\n",
       "0    0.3064\n",
       "Name: polarity, dtype: float64"
      ]
     },
     "execution_count": 61,
     "metadata": {},
     "output_type": "execute_result"
    }
   ],
   "source": [
    "#Cantidad de positivos y negativos SVM\n",
    "EstimadosKNN = tweets_test_kNN.polarity.value_counts(normalize=True)\n",
    "EstimadosKNN"
   ]
  },
  {
   "cell_type": "code",
   "execution_count": 62,
   "metadata": {},
   "outputs": [
    {
     "data": {
      "text/plain": [
       "Text(0.5, 1.0, 'kNN Polaridad de Tweets')"
      ]
     },
     "execution_count": 62,
     "metadata": {},
     "output_type": "execute_result"
    },
    {
     "data": {
      "image/png": "[encoded data removed]",
      "text/plain": [
       "<Figure size 432x288 with 1 Axes>"
      ]
     },
     "metadata": {},
     "output_type": "display_data"
    }
   ],
   "source": [
    "#Realizaremos gráfico de tortas kNN\n",
    "import matplotlib.pyplot as plt\n",
    "import numpy as np\n",
    "\n",
    "\n",
    "plt.ion()  # Ponemos el modo interactivo\n",
    "pol = [EstimadosKNN.get_values()[0]*100,EstimadosKNN.get_values()[1]*100] # Definimos un vector con el % de visitas del top ten de países\n",
    "#pol = np.append(pol, 100. - np.sum(pol)) # Introducimos un último elemento que recoge el % de visitas de otros países fuera del top ten\n",
    "percepcion = [u'Positivos', u'Negativos']  # Etiquetas para los quesitos\n",
    "explode = [0.2, 0]  # Esto nos ayudará a destacar algunos quesitos\n",
    "plt.pie(pol, labels = percepcion, autopct=\"%0.1f %%\")  # Dibuja un gráfico de quesitos\n",
    "plt.title(u'kNN Polaridad de Tweets')"
   ]
  },
  {
   "cell_type": "code",
   "execution_count": 63,
   "metadata": {},
   "outputs": [],
   "source": [
    "#Crear archivos de excel con los resultados de sentimientos\n",
    "tweets_test.to_excel(r'sentimientosSVM_tweets.xlsx')\n",
    "tweets_test_kNN.to_excel(r'sentimientosKNN_tweets.xlsx')"
   ]
  },
  {
   "cell_type": "code",
   "execution_count": 64,
   "metadata": {},
   "outputs": [],
   "source": [
    "# Almacenar en dos bases de datos en MongoDB una para SVM y otra para kNN\n",
    "#Almacenar datos en una colección de Mongo\n",
    "collist = db.list_collection_names()\n",
    "\n",
    "## ALMACENAR RESULTADOS SVM ###\n",
    "if \"sentimientosSVM\" in collist:\n",
    " db.sentimientosSVM.drop()   \n",
    " db.sentimientosSVM.insert_many(tweets_test.to_dict('records'))\n",
    "else:\n",
    "    db[\"sentimientosSVM\"]\n",
    "    db.sentimientosSVM.insert_many(tweets_test.to_dict('records'))"
   ]
  },
  {
   "cell_type": "code",
   "execution_count": 65,
   "metadata": {},
   "outputs": [],
   "source": [
    "## ALMACENAR RESULTADOS SVM ###\n",
    "if \"sentimientosKNN\" in collist:\n",
    " db.sentimientosKNN.drop()   \n",
    " db.sentimientosKNN.insert_many(tweets_test_kNN.to_dict('records'))\n",
    "else:\n",
    "    db[\"sentimientosKNN\"]\n",
    "    db.sentimientosKNN.insert_many(tweets_test_kNN.to_dict('records'))"
   ]
  },
  {
   "cell_type": "code",
   "execution_count": null,
   "metadata": {},
   "outputs": [],
   "source": []
  }
 ],
 "metadata": {
  "kernelspec": {
   "display_name": "Python3.6(conda)",
   "language": "python",
   "name": "python36"
  },
  "language_info": {
   "codemirror_mode": {
    "name": "ipython",
    "version": 3
   },
   "file_extension": ".py",
   "mimetype": "text/x-python",
   "name": "python",
   "nbconvert_exporter": "python",
   "pygments_lexer": "ipython3",
   "version": "3.6.8"
  }
 },
 "nbformat": 4,
 "nbformat_minor": 2
}
